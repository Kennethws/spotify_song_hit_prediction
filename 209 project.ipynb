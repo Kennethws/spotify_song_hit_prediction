{
 "cells": [
  {
   "cell_type": "markdown",
   "id": "ff23db12",
   "metadata": {},
   "source": [
    "# Predicting Song Success Based on Song Elements\n",
    "\n",
    "**Harvard University**<br/>\n",
    "**Fall 2022**<br/>\n",
    "**Group Members**: Hongwen(Olivia) Song, Xiaoyuan(Sophy) Huang, Chao(Kenneth) Wang, Jinglun(Jerry) Gao\n",
    "\n",
    "<hr style=\"height:2.4pt\">\n",
    "\n",
    "<a id=\"contents\"></a>"
   ]
  },
  {
   "cell_type": "markdown",
   "id": "713bddfe",
   "metadata": {},
   "source": [
    "### Import Libraries"
   ]
  },
  {
   "cell_type": "code",
   "execution_count": 47,
   "id": "6fffde14",
   "metadata": {},
   "outputs": [],
   "source": [
    "import itertools\n",
    "import math\n",
    "\n",
    "import numpy as np\n",
    "import numpy.linalg as la\n",
    "import pandas as pd\n",
    "import seaborn as sns\n",
    "import matplotlib.pyplot as plt\n",
    "import time\n",
    "from tqdm import tqdm, trange\n",
    "\n",
    "from sklearn.model_selection import train_test_split\n",
    "from sklearn.model_selection import GridSearchCV\n",
    "from sklearn.preprocessing import PolynomialFeatures, StandardScaler\n",
    "from sklearn.model_selection import cross_validate, cross_val_score\n",
    "\n",
    "from sklearn.linear_model import LogisticRegression\n",
    "from sklearn.neighbors import KNeighborsClassifier\n",
    "from sklearn.tree import DecisionTreeClassifier\n",
    "from sklearn.ensemble import RandomForestClassifier\n",
    "from sklearn.ensemble import AdaBoostClassifier\n",
    "from sklearn import tree\n",
    "from sklearn.linear_model import LogisticRegressionCV\n",
    "from sklearn.svm import SVC\n",
    "from mlxtend.classifier import StackingClassifier\n",
    "\n",
    "from sklearn.metrics import accuracy_score\n",
    "from sklearn.metrics import roc_curve\n",
    "from sklearn.metrics import roc_auc_score\n",
    "from sklearn.metrics import classification_report, confusion_matrix\n"
   ]
  },
  {
   "cell_type": "markdown",
   "id": "e8e9fa95",
   "metadata": {},
   "source": [
    "## Notebook contents\n",
    "\n",
    "- [**A description of the data**](#part1)\n",
    "\n",
    "- [**Visualizations and captions**](#part2)\n",
    "\n"
   ]
  },
  {
   "cell_type": "markdown",
   "id": "2ca2f728",
   "metadata": {},
   "source": [
    "<a id=\"part1\"></a>\n",
    "\n",
    "## A description of the data\n",
    "\n",
    "[Return to contents](#contents)\n",
    "\n",
    "### Predicting song success\n",
    "\n",
    "This is a dataset consisting of features for tracks fetched using Spotify's Web API. The tracks are labeled '1' or '0' ('Hit' or 'Flop') depending on some criteria of the author.\n",
    "\n",
    "This dataset can be used to make a `classification model` that predicts whether a track would be a 'Hit' or not.\n",
    "\n",
    "- **track**: The Name of the track.\n",
    "  \n",
    "- **artist**: The Name of the Artist.\n",
    "  \n",
    "- **uri**: The resource identifier for the track.\n",
    "\n",
    "- **danceability**: Danceability describes how suitable a track is for dancing based on a combination of musical elements including tempo, rhythm stability, beat strength, and overall regularity. A value of 0.0 is least danceable and 1.0 is most danceable. \n",
    "\n",
    "- **energy**: Energy is a measure from 0.0 to 1.0 and represents a perceptual measure of intensity and activity. Typically, energetic tracks feel fast, loud, and noisy. \n",
    "\n",
    "- **key**: The estimated overall key of the track. Integers map to pitches using standard Pitch Class notation. E.g. 0 = C, 1 = C?/D?, 2 = D, and so on. **If no key was detected, the value is -1**.\n",
    "\n",
    "- **loudness**: The overall loudness of a track in decibels (dB). Loudness values are averaged across the entire track and are useful for comparing relative loudness of tracks. Loudness is the quality of a sound that is the primary psychological correlate of physical strength (amplitude). Values typical range between -60 and 0 db. \n",
    "\n",
    "- **mode**: Mode indicates the modality (major or minor) of a track, the type of scale from which its melodic content is derived. Major is represented by 1 and minor is 0.\n",
    "\n",
    "- **speechiness**: Speechiness detects the presence of spoken words in a track. The more exclusively speech-like the recording (e.g. talk show, audio book, poetry), the closer to 1.0 the attribute value. Values above 0.66 describe tracks that are probably made entirely of spoken words. Values between 0.33 and 0.66 describe tracks that may contain both music and speech, either in sections or layered, including such cases as rap music. Values below 0.33 most likely represent music and other non-speech-like tracks. \n",
    "\n",
    "- **acousticness**: A confidence measure from 0.0 to 1.0 of whether the track is acoustic. 1.0 represents high confidence the track is acoustic. \n",
    "\n",
    "- **instrumentalness**: Predicts whether a track contains no vocals. “Ooh” and “aah” sounds are treated as instrumental in this context. Rap or spoken word tracks are clearly “vocal”. The closer the instrumentalness value is to 1.0, the greater likelihood the track contains no vocal content. Values above 0.5 are intended to represent instrumental tracks, but confidence is higher as the value approaches 1.0. \n",
    "\n",
    "- **liveness**: Detects the presence of an audience in the recording. Higher liveness values represent an increased probability that the track was performed live. A value above 0.8 provides strong likelihood that the track is live.\n",
    "\n",
    "- **valence**: A measure from 0.0 to 1.0 describing the musical positiveness conveyed by a track. Tracks with high valence sound more positive (e.g. happy, cheerful, euphoric), while tracks with low valence sound more negative (e.g. sad, depressed, angry).\n",
    "\n",
    "- **tempo**: The overall estimated tempo of a track in beats per minute (BPM). In musical terminology, tempo is the speed or pace of a given piece and derives directly from the average beat duration. \n",
    "\n",
    "- **duration_ms**:  The duration of the track in milliseconds.\n",
    "\n",
    "- **time_signature**: An estimated overall time signature of a track. The time signature (meter) is a notational convention to specify how many beats are in each bar (or measure).\n",
    "\n",
    "- **chorus_hit**: This the the author's best estimate of when the chorus would start for the track. Its the timestamp of the start of the third section of the track. This feature was extracted from the data received by the API call for Audio Analysis of that particular track.\n",
    "\n",
    "- **sections**: The number of sections the particular track has. This feature was extracted from the data received by the API call for Audio Analysis of that particular track.\n",
    "\n",
    "- **target**: The target variable for the track. It can be either '0' or '1'. '1' implies that this song has featured in the weekly list (Issued by Billboards) of Hot-100 tracks in that decade at least once and is therefore a 'hit'. '0' Implies that the track is a 'flop'."
   ]
  },
  {
   "cell_type": "markdown",
   "id": "bda44626",
   "metadata": {},
   "source": [
    "---"
   ]
  },
  {
   "cell_type": "markdown",
   "id": "7afe66d6",
   "metadata": {},
   "source": [
    "### Import data"
   ]
  },
  {
   "cell_type": "code",
   "execution_count": 3,
   "id": "ae898c72",
   "metadata": {},
   "outputs": [],
   "source": [
    "df_00 = pd.read_csv('data/dataset-of-00s.csv')\n",
    "df_10 = pd.read_csv('data/dataset-of-10s.csv')\n",
    "df_60 = pd.read_csv('data/dataset-of-60s.csv')\n",
    "df_70 = pd.read_csv('data/dataset-of-70s.csv')\n",
    "df_80 = pd.read_csv('data/dataset-of-80s.csv')\n",
    "df_90 = pd.read_csv('data/dataset-of-90s.csv')"
   ]
  },
  {
   "cell_type": "code",
   "execution_count": 4,
   "id": "be099791",
   "metadata": {},
   "outputs": [
    {
     "data": {
      "text/html": [
       "<div>\n",
       "<style scoped>\n",
       "    .dataframe tbody tr th:only-of-type {\n",
       "        vertical-align: middle;\n",
       "    }\n",
       "\n",
       "    .dataframe tbody tr th {\n",
       "        vertical-align: top;\n",
       "    }\n",
       "\n",
       "    .dataframe thead th {\n",
       "        text-align: right;\n",
       "    }\n",
       "</style>\n",
       "<table border=\"1\" class=\"dataframe\">\n",
       "  <thead>\n",
       "    <tr style=\"text-align: right;\">\n",
       "      <th></th>\n",
       "      <th>danceability</th>\n",
       "      <th>energy</th>\n",
       "      <th>key</th>\n",
       "      <th>loudness</th>\n",
       "      <th>mode</th>\n",
       "      <th>speechiness</th>\n",
       "      <th>acousticness</th>\n",
       "      <th>instrumentalness</th>\n",
       "      <th>liveness</th>\n",
       "      <th>valence</th>\n",
       "      <th>tempo</th>\n",
       "      <th>duration_ms</th>\n",
       "      <th>time_signature</th>\n",
       "      <th>chorus_hit</th>\n",
       "      <th>sections</th>\n",
       "      <th>target</th>\n",
       "    </tr>\n",
       "  </thead>\n",
       "  <tbody>\n",
       "    <tr>\n",
       "      <th>count</th>\n",
       "      <td>5872.000000</td>\n",
       "      <td>5872.000000</td>\n",
       "      <td>5872.000000</td>\n",
       "      <td>5872.000000</td>\n",
       "      <td>5872.000000</td>\n",
       "      <td>5872.000000</td>\n",
       "      <td>5872.000000</td>\n",
       "      <td>5872.000000</td>\n",
       "      <td>5872.000000</td>\n",
       "      <td>5872.000000</td>\n",
       "      <td>5872.000000</td>\n",
       "      <td>5.872000e+03</td>\n",
       "      <td>5872.000000</td>\n",
       "      <td>5872.000000</td>\n",
       "      <td>5872.000000</td>\n",
       "      <td>5872.000000</td>\n",
       "    </tr>\n",
       "    <tr>\n",
       "      <th>mean</th>\n",
       "      <td>0.542931</td>\n",
       "      <td>0.694511</td>\n",
       "      <td>5.276396</td>\n",
       "      <td>-7.449258</td>\n",
       "      <td>0.645095</td>\n",
       "      <td>0.092360</td>\n",
       "      <td>0.214374</td>\n",
       "      <td>0.150917</td>\n",
       "      <td>0.196141</td>\n",
       "      <td>0.482262</td>\n",
       "      <td>121.613018</td>\n",
       "      <td>2.581706e+05</td>\n",
       "      <td>3.913999</td>\n",
       "      <td>40.734295</td>\n",
       "      <td>11.056880</td>\n",
       "      <td>0.500000</td>\n",
       "    </tr>\n",
       "    <tr>\n",
       "      <th>std</th>\n",
       "      <td>0.190003</td>\n",
       "      <td>0.237792</td>\n",
       "      <td>3.564153</td>\n",
       "      <td>5.102543</td>\n",
       "      <td>0.478525</td>\n",
       "      <td>0.094997</td>\n",
       "      <td>0.296511</td>\n",
       "      <td>0.301452</td>\n",
       "      <td>0.161965</td>\n",
       "      <td>0.254567</td>\n",
       "      <td>30.179885</td>\n",
       "      <td>1.395341e+05</td>\n",
       "      <td>0.404280</td>\n",
       "      <td>20.245637</td>\n",
       "      <td>5.758186</td>\n",
       "      <td>0.500043</td>\n",
       "    </tr>\n",
       "    <tr>\n",
       "      <th>min</th>\n",
       "      <td>0.058800</td>\n",
       "      <td>0.000348</td>\n",
       "      <td>0.000000</td>\n",
       "      <td>-47.327000</td>\n",
       "      <td>0.000000</td>\n",
       "      <td>0.022400</td>\n",
       "      <td>0.000000</td>\n",
       "      <td>0.000000</td>\n",
       "      <td>0.019300</td>\n",
       "      <td>0.000000</td>\n",
       "      <td>46.755000</td>\n",
       "      <td>1.592000e+04</td>\n",
       "      <td>0.000000</td>\n",
       "      <td>0.000000</td>\n",
       "      <td>1.000000</td>\n",
       "      <td>0.000000</td>\n",
       "    </tr>\n",
       "    <tr>\n",
       "      <th>25%</th>\n",
       "      <td>0.416000</td>\n",
       "      <td>0.567000</td>\n",
       "      <td>2.000000</td>\n",
       "      <td>-8.315000</td>\n",
       "      <td>0.000000</td>\n",
       "      <td>0.036175</td>\n",
       "      <td>0.004553</td>\n",
       "      <td>0.000000</td>\n",
       "      <td>0.093700</td>\n",
       "      <td>0.278000</td>\n",
       "      <td>96.984000</td>\n",
       "      <td>2.068130e+05</td>\n",
       "      <td>4.000000</td>\n",
       "      <td>27.507507</td>\n",
       "      <td>9.000000</td>\n",
       "      <td>0.000000</td>\n",
       "    </tr>\n",
       "    <tr>\n",
       "      <th>50%</th>\n",
       "      <td>0.556000</td>\n",
       "      <td>0.744000</td>\n",
       "      <td>5.000000</td>\n",
       "      <td>-6.041500</td>\n",
       "      <td>1.000000</td>\n",
       "      <td>0.052700</td>\n",
       "      <td>0.060300</td>\n",
       "      <td>0.000022</td>\n",
       "      <td>0.131000</td>\n",
       "      <td>0.486000</td>\n",
       "      <td>119.999000</td>\n",
       "      <td>2.380065e+05</td>\n",
       "      <td>4.000000</td>\n",
       "      <td>36.037160</td>\n",
       "      <td>10.000000</td>\n",
       "      <td>0.500000</td>\n",
       "    </tr>\n",
       "    <tr>\n",
       "      <th>75%</th>\n",
       "      <td>0.681000</td>\n",
       "      <td>0.885000</td>\n",
       "      <td>8.000000</td>\n",
       "      <td>-4.562500</td>\n",
       "      <td>1.000000</td>\n",
       "      <td>0.107000</td>\n",
       "      <td>0.312000</td>\n",
       "      <td>0.047275</td>\n",
       "      <td>0.263000</td>\n",
       "      <td>0.687000</td>\n",
       "      <td>141.495250</td>\n",
       "      <td>2.791600e+05</td>\n",
       "      <td>4.000000</td>\n",
       "      <td>47.889570</td>\n",
       "      <td>12.000000</td>\n",
       "      <td>1.000000</td>\n",
       "    </tr>\n",
       "    <tr>\n",
       "      <th>max</th>\n",
       "      <td>0.986000</td>\n",
       "      <td>0.999000</td>\n",
       "      <td>11.000000</td>\n",
       "      <td>1.137000</td>\n",
       "      <td>1.000000</td>\n",
       "      <td>0.950000</td>\n",
       "      <td>0.996000</td>\n",
       "      <td>0.998000</td>\n",
       "      <td>0.987000</td>\n",
       "      <td>0.982000</td>\n",
       "      <td>213.233000</td>\n",
       "      <td>4.170227e+06</td>\n",
       "      <td>5.000000</td>\n",
       "      <td>262.615400</td>\n",
       "      <td>169.000000</td>\n",
       "      <td>1.000000</td>\n",
       "    </tr>\n",
       "  </tbody>\n",
       "</table>\n",
       "</div>"
      ],
      "text/plain": [
       "       danceability       energy          key     loudness         mode  \\\n",
       "count   5872.000000  5872.000000  5872.000000  5872.000000  5872.000000   \n",
       "mean       0.542931     0.694511     5.276396    -7.449258     0.645095   \n",
       "std        0.190003     0.237792     3.564153     5.102543     0.478525   \n",
       "min        0.058800     0.000348     0.000000   -47.327000     0.000000   \n",
       "25%        0.416000     0.567000     2.000000    -8.315000     0.000000   \n",
       "50%        0.556000     0.744000     5.000000    -6.041500     1.000000   \n",
       "75%        0.681000     0.885000     8.000000    -4.562500     1.000000   \n",
       "max        0.986000     0.999000    11.000000     1.137000     1.000000   \n",
       "\n",
       "       speechiness  acousticness  instrumentalness     liveness      valence  \\\n",
       "count  5872.000000   5872.000000       5872.000000  5872.000000  5872.000000   \n",
       "mean      0.092360      0.214374          0.150917     0.196141     0.482262   \n",
       "std       0.094997      0.296511          0.301452     0.161965     0.254567   \n",
       "min       0.022400      0.000000          0.000000     0.019300     0.000000   \n",
       "25%       0.036175      0.004553          0.000000     0.093700     0.278000   \n",
       "50%       0.052700      0.060300          0.000022     0.131000     0.486000   \n",
       "75%       0.107000      0.312000          0.047275     0.263000     0.687000   \n",
       "max       0.950000      0.996000          0.998000     0.987000     0.982000   \n",
       "\n",
       "             tempo   duration_ms  time_signature   chorus_hit     sections  \\\n",
       "count  5872.000000  5.872000e+03     5872.000000  5872.000000  5872.000000   \n",
       "mean    121.613018  2.581706e+05        3.913999    40.734295    11.056880   \n",
       "std      30.179885  1.395341e+05        0.404280    20.245637     5.758186   \n",
       "min      46.755000  1.592000e+04        0.000000     0.000000     1.000000   \n",
       "25%      96.984000  2.068130e+05        4.000000    27.507507     9.000000   \n",
       "50%     119.999000  2.380065e+05        4.000000    36.037160    10.000000   \n",
       "75%     141.495250  2.791600e+05        4.000000    47.889570    12.000000   \n",
       "max     213.233000  4.170227e+06        5.000000   262.615400   169.000000   \n",
       "\n",
       "            target  \n",
       "count  5872.000000  \n",
       "mean      0.500000  \n",
       "std       0.500043  \n",
       "min       0.000000  \n",
       "25%       0.000000  \n",
       "50%       0.500000  \n",
       "75%       1.000000  \n",
       "max       1.000000  "
      ]
     },
     "execution_count": 4,
     "metadata": {},
     "output_type": "execute_result"
    }
   ],
   "source": [
    "df_00.describe()"
   ]
  },
  {
   "cell_type": "code",
   "execution_count": 5,
   "id": "3ffbc039",
   "metadata": {},
   "outputs": [
    {
     "data": {
      "text/html": [
       "<div>\n",
       "<style scoped>\n",
       "    .dataframe tbody tr th:only-of-type {\n",
       "        vertical-align: middle;\n",
       "    }\n",
       "\n",
       "    .dataframe tbody tr th {\n",
       "        vertical-align: top;\n",
       "    }\n",
       "\n",
       "    .dataframe thead th {\n",
       "        text-align: right;\n",
       "    }\n",
       "</style>\n",
       "<table border=\"1\" class=\"dataframe\">\n",
       "  <thead>\n",
       "    <tr style=\"text-align: right;\">\n",
       "      <th></th>\n",
       "      <th>track</th>\n",
       "      <th>artist</th>\n",
       "      <th>uri</th>\n",
       "      <th>danceability</th>\n",
       "      <th>energy</th>\n",
       "      <th>key</th>\n",
       "      <th>loudness</th>\n",
       "      <th>mode</th>\n",
       "      <th>speechiness</th>\n",
       "      <th>acousticness</th>\n",
       "      <th>instrumentalness</th>\n",
       "      <th>liveness</th>\n",
       "      <th>valence</th>\n",
       "      <th>tempo</th>\n",
       "      <th>duration_ms</th>\n",
       "      <th>time_signature</th>\n",
       "      <th>chorus_hit</th>\n",
       "      <th>sections</th>\n",
       "      <th>target</th>\n",
       "    </tr>\n",
       "  </thead>\n",
       "  <tbody>\n",
       "    <tr>\n",
       "      <th>0</th>\n",
       "      <td>Lucky Man</td>\n",
       "      <td>Montgomery Gentry</td>\n",
       "      <td>spotify:track:4GiXBCUF7H6YfNQsnBRIzl</td>\n",
       "      <td>0.578</td>\n",
       "      <td>0.471</td>\n",
       "      <td>4</td>\n",
       "      <td>-7.270</td>\n",
       "      <td>1</td>\n",
       "      <td>0.0289</td>\n",
       "      <td>0.368000</td>\n",
       "      <td>0.00000</td>\n",
       "      <td>0.159</td>\n",
       "      <td>0.532</td>\n",
       "      <td>133.061</td>\n",
       "      <td>196707</td>\n",
       "      <td>4</td>\n",
       "      <td>30.88059</td>\n",
       "      <td>13</td>\n",
       "      <td>1</td>\n",
       "    </tr>\n",
       "    <tr>\n",
       "      <th>1</th>\n",
       "      <td>On The Hotline</td>\n",
       "      <td>Pretty Ricky</td>\n",
       "      <td>spotify:track:1zyqZONW985Cs4osz9wlsu</td>\n",
       "      <td>0.704</td>\n",
       "      <td>0.854</td>\n",
       "      <td>10</td>\n",
       "      <td>-5.477</td>\n",
       "      <td>0</td>\n",
       "      <td>0.1830</td>\n",
       "      <td>0.018500</td>\n",
       "      <td>0.00000</td>\n",
       "      <td>0.148</td>\n",
       "      <td>0.688</td>\n",
       "      <td>92.988</td>\n",
       "      <td>242587</td>\n",
       "      <td>4</td>\n",
       "      <td>41.51106</td>\n",
       "      <td>10</td>\n",
       "      <td>1</td>\n",
       "    </tr>\n",
       "    <tr>\n",
       "      <th>2</th>\n",
       "      <td>Clouds Of Dementia</td>\n",
       "      <td>Candlemass</td>\n",
       "      <td>spotify:track:6cHZf7RbxXCKwEkgAZT4mY</td>\n",
       "      <td>0.162</td>\n",
       "      <td>0.836</td>\n",
       "      <td>9</td>\n",
       "      <td>-3.009</td>\n",
       "      <td>1</td>\n",
       "      <td>0.0473</td>\n",
       "      <td>0.000111</td>\n",
       "      <td>0.00457</td>\n",
       "      <td>0.174</td>\n",
       "      <td>0.300</td>\n",
       "      <td>86.964</td>\n",
       "      <td>338893</td>\n",
       "      <td>4</td>\n",
       "      <td>65.32887</td>\n",
       "      <td>13</td>\n",
       "      <td>0</td>\n",
       "    </tr>\n",
       "    <tr>\n",
       "      <th>3</th>\n",
       "      <td>Heavy Metal, Raise Hell!</td>\n",
       "      <td>Zwartketterij</td>\n",
       "      <td>spotify:track:2IjBPp2vMeX7LggzRN3iSX</td>\n",
       "      <td>0.188</td>\n",
       "      <td>0.994</td>\n",
       "      <td>4</td>\n",
       "      <td>-3.745</td>\n",
       "      <td>1</td>\n",
       "      <td>0.1660</td>\n",
       "      <td>0.000007</td>\n",
       "      <td>0.07840</td>\n",
       "      <td>0.192</td>\n",
       "      <td>0.333</td>\n",
       "      <td>148.440</td>\n",
       "      <td>255667</td>\n",
       "      <td>4</td>\n",
       "      <td>58.59528</td>\n",
       "      <td>9</td>\n",
       "      <td>0</td>\n",
       "    </tr>\n",
       "    <tr>\n",
       "      <th>4</th>\n",
       "      <td>I Got A Feelin'</td>\n",
       "      <td>Billy Currington</td>\n",
       "      <td>spotify:track:1tF370eYXUcWwkIvaq3IGz</td>\n",
       "      <td>0.630</td>\n",
       "      <td>0.764</td>\n",
       "      <td>2</td>\n",
       "      <td>-4.353</td>\n",
       "      <td>1</td>\n",
       "      <td>0.0275</td>\n",
       "      <td>0.363000</td>\n",
       "      <td>0.00000</td>\n",
       "      <td>0.125</td>\n",
       "      <td>0.631</td>\n",
       "      <td>112.098</td>\n",
       "      <td>193760</td>\n",
       "      <td>4</td>\n",
       "      <td>22.62384</td>\n",
       "      <td>10</td>\n",
       "      <td>1</td>\n",
       "    </tr>\n",
       "  </tbody>\n",
       "</table>\n",
       "</div>"
      ],
      "text/plain": [
       "                      track             artist  \\\n",
       "0                 Lucky Man  Montgomery Gentry   \n",
       "1            On The Hotline       Pretty Ricky   \n",
       "2        Clouds Of Dementia         Candlemass   \n",
       "3  Heavy Metal, Raise Hell!      Zwartketterij   \n",
       "4           I Got A Feelin'   Billy Currington   \n",
       "\n",
       "                                    uri  danceability  energy  key  loudness  \\\n",
       "0  spotify:track:4GiXBCUF7H6YfNQsnBRIzl         0.578   0.471    4    -7.270   \n",
       "1  spotify:track:1zyqZONW985Cs4osz9wlsu         0.704   0.854   10    -5.477   \n",
       "2  spotify:track:6cHZf7RbxXCKwEkgAZT4mY         0.162   0.836    9    -3.009   \n",
       "3  spotify:track:2IjBPp2vMeX7LggzRN3iSX         0.188   0.994    4    -3.745   \n",
       "4  spotify:track:1tF370eYXUcWwkIvaq3IGz         0.630   0.764    2    -4.353   \n",
       "\n",
       "   mode  speechiness  acousticness  instrumentalness  liveness  valence  \\\n",
       "0     1       0.0289      0.368000           0.00000     0.159    0.532   \n",
       "1     0       0.1830      0.018500           0.00000     0.148    0.688   \n",
       "2     1       0.0473      0.000111           0.00457     0.174    0.300   \n",
       "3     1       0.1660      0.000007           0.07840     0.192    0.333   \n",
       "4     1       0.0275      0.363000           0.00000     0.125    0.631   \n",
       "\n",
       "     tempo  duration_ms  time_signature  chorus_hit  sections  target  \n",
       "0  133.061       196707               4    30.88059        13       1  \n",
       "1   92.988       242587               4    41.51106        10       1  \n",
       "2   86.964       338893               4    65.32887        13       0  \n",
       "3  148.440       255667               4    58.59528         9       0  \n",
       "4  112.098       193760               4    22.62384        10       1  "
      ]
     },
     "execution_count": 5,
     "metadata": {},
     "output_type": "execute_result"
    }
   ],
   "source": [
    "df_00.head()"
   ]
  },
  {
   "cell_type": "code",
   "execution_count": 6,
   "id": "f8c439be",
   "metadata": {},
   "outputs": [
    {
     "data": {
      "text/plain": [
       "(5872, 19)"
      ]
     },
     "execution_count": 6,
     "metadata": {},
     "output_type": "execute_result"
    }
   ],
   "source": [
    "df_00.shape"
   ]
  },
  {
   "cell_type": "markdown",
   "id": "1c3dcb1a",
   "metadata": {},
   "source": [
    "**Q1.1** \n",
    "\n",
    "Do we want to make \"decade\" categorical or numarical?"
   ]
  },
  {
   "cell_type": "code",
   "execution_count": 7,
   "id": "a4f972e3",
   "metadata": {},
   "outputs": [],
   "source": [
    "df_00['decade'] = \"00\"\n",
    "df_10['decade'] = \"10\"\n",
    "df_60['decade'] = \"60\"\n",
    "df_70['decade'] = \"70\"\n",
    "df_80['decade'] = \"80\"\n",
    "df_90['decade'] = \"90\""
   ]
  },
  {
   "cell_type": "markdown",
   "id": "30f74983",
   "metadata": {},
   "source": [
    "### Data Concatenation"
   ]
  },
  {
   "cell_type": "code",
   "execution_count": 8,
   "id": "9c919c4e",
   "metadata": {},
   "outputs": [],
   "source": [
    "df_whole = pd.concat([df_60, df_70, df_80, df_90, df_00, df_10])"
   ]
  },
  {
   "cell_type": "code",
   "execution_count": 9,
   "id": "10e41a45",
   "metadata": {},
   "outputs": [
    {
     "data": {
      "text/html": [
       "<div>\n",
       "<style scoped>\n",
       "    .dataframe tbody tr th:only-of-type {\n",
       "        vertical-align: middle;\n",
       "    }\n",
       "\n",
       "    .dataframe tbody tr th {\n",
       "        vertical-align: top;\n",
       "    }\n",
       "\n",
       "    .dataframe thead th {\n",
       "        text-align: right;\n",
       "    }\n",
       "</style>\n",
       "<table border=\"1\" class=\"dataframe\">\n",
       "  <thead>\n",
       "    <tr style=\"text-align: right;\">\n",
       "      <th></th>\n",
       "      <th>danceability</th>\n",
       "      <th>energy</th>\n",
       "      <th>key</th>\n",
       "      <th>loudness</th>\n",
       "      <th>mode</th>\n",
       "      <th>speechiness</th>\n",
       "      <th>acousticness</th>\n",
       "      <th>instrumentalness</th>\n",
       "      <th>liveness</th>\n",
       "      <th>valence</th>\n",
       "      <th>tempo</th>\n",
       "      <th>duration_ms</th>\n",
       "      <th>time_signature</th>\n",
       "      <th>chorus_hit</th>\n",
       "      <th>sections</th>\n",
       "      <th>target</th>\n",
       "    </tr>\n",
       "  </thead>\n",
       "  <tbody>\n",
       "    <tr>\n",
       "      <th>count</th>\n",
       "      <td>41106.000000</td>\n",
       "      <td>41106.000000</td>\n",
       "      <td>41106.000000</td>\n",
       "      <td>41106.000000</td>\n",
       "      <td>41106.000000</td>\n",
       "      <td>41106.000000</td>\n",
       "      <td>41106.000000</td>\n",
       "      <td>41106.000000</td>\n",
       "      <td>41106.000000</td>\n",
       "      <td>41106.000000</td>\n",
       "      <td>41106.000000</td>\n",
       "      <td>4.110600e+04</td>\n",
       "      <td>41106.000000</td>\n",
       "      <td>41106.000000</td>\n",
       "      <td>41106.000000</td>\n",
       "      <td>41106.000000</td>\n",
       "    </tr>\n",
       "    <tr>\n",
       "      <th>mean</th>\n",
       "      <td>0.539695</td>\n",
       "      <td>0.579545</td>\n",
       "      <td>5.213594</td>\n",
       "      <td>-10.221525</td>\n",
       "      <td>0.693354</td>\n",
       "      <td>0.072960</td>\n",
       "      <td>0.364197</td>\n",
       "      <td>0.154416</td>\n",
       "      <td>0.201535</td>\n",
       "      <td>0.542440</td>\n",
       "      <td>119.338249</td>\n",
       "      <td>2.348776e+05</td>\n",
       "      <td>3.893689</td>\n",
       "      <td>40.106041</td>\n",
       "      <td>10.475673</td>\n",
       "      <td>0.500000</td>\n",
       "    </tr>\n",
       "    <tr>\n",
       "      <th>std</th>\n",
       "      <td>0.177821</td>\n",
       "      <td>0.252628</td>\n",
       "      <td>3.534977</td>\n",
       "      <td>5.311626</td>\n",
       "      <td>0.461107</td>\n",
       "      <td>0.086112</td>\n",
       "      <td>0.338913</td>\n",
       "      <td>0.303530</td>\n",
       "      <td>0.172959</td>\n",
       "      <td>0.267329</td>\n",
       "      <td>29.098845</td>\n",
       "      <td>1.189674e+05</td>\n",
       "      <td>0.423073</td>\n",
       "      <td>19.005515</td>\n",
       "      <td>4.871850</td>\n",
       "      <td>0.500006</td>\n",
       "    </tr>\n",
       "    <tr>\n",
       "      <th>min</th>\n",
       "      <td>0.000000</td>\n",
       "      <td>0.000251</td>\n",
       "      <td>0.000000</td>\n",
       "      <td>-49.253000</td>\n",
       "      <td>0.000000</td>\n",
       "      <td>0.000000</td>\n",
       "      <td>0.000000</td>\n",
       "      <td>0.000000</td>\n",
       "      <td>0.013000</td>\n",
       "      <td>0.000000</td>\n",
       "      <td>0.000000</td>\n",
       "      <td>1.516800e+04</td>\n",
       "      <td>0.000000</td>\n",
       "      <td>0.000000</td>\n",
       "      <td>0.000000</td>\n",
       "      <td>0.000000</td>\n",
       "    </tr>\n",
       "    <tr>\n",
       "      <th>25%</th>\n",
       "      <td>0.420000</td>\n",
       "      <td>0.396000</td>\n",
       "      <td>2.000000</td>\n",
       "      <td>-12.816000</td>\n",
       "      <td>0.000000</td>\n",
       "      <td>0.033700</td>\n",
       "      <td>0.039400</td>\n",
       "      <td>0.000000</td>\n",
       "      <td>0.094000</td>\n",
       "      <td>0.330000</td>\n",
       "      <td>97.397000</td>\n",
       "      <td>1.729278e+05</td>\n",
       "      <td>4.000000</td>\n",
       "      <td>27.599792</td>\n",
       "      <td>8.000000</td>\n",
       "      <td>0.000000</td>\n",
       "    </tr>\n",
       "    <tr>\n",
       "      <th>50%</th>\n",
       "      <td>0.552000</td>\n",
       "      <td>0.601000</td>\n",
       "      <td>5.000000</td>\n",
       "      <td>-9.257000</td>\n",
       "      <td>1.000000</td>\n",
       "      <td>0.043400</td>\n",
       "      <td>0.258000</td>\n",
       "      <td>0.000120</td>\n",
       "      <td>0.132000</td>\n",
       "      <td>0.558000</td>\n",
       "      <td>117.565000</td>\n",
       "      <td>2.179070e+05</td>\n",
       "      <td>4.000000</td>\n",
       "      <td>35.850795</td>\n",
       "      <td>10.000000</td>\n",
       "      <td>0.500000</td>\n",
       "    </tr>\n",
       "    <tr>\n",
       "      <th>75%</th>\n",
       "      <td>0.669000</td>\n",
       "      <td>0.787000</td>\n",
       "      <td>8.000000</td>\n",
       "      <td>-6.374250</td>\n",
       "      <td>1.000000</td>\n",
       "      <td>0.069800</td>\n",
       "      <td>0.676000</td>\n",
       "      <td>0.061250</td>\n",
       "      <td>0.261000</td>\n",
       "      <td>0.768000</td>\n",
       "      <td>136.494000</td>\n",
       "      <td>2.667730e+05</td>\n",
       "      <td>4.000000</td>\n",
       "      <td>47.625615</td>\n",
       "      <td>12.000000</td>\n",
       "      <td>1.000000</td>\n",
       "    </tr>\n",
       "    <tr>\n",
       "      <th>max</th>\n",
       "      <td>0.988000</td>\n",
       "      <td>1.000000</td>\n",
       "      <td>11.000000</td>\n",
       "      <td>3.744000</td>\n",
       "      <td>1.000000</td>\n",
       "      <td>0.960000</td>\n",
       "      <td>0.996000</td>\n",
       "      <td>1.000000</td>\n",
       "      <td>0.999000</td>\n",
       "      <td>0.996000</td>\n",
       "      <td>241.423000</td>\n",
       "      <td>4.170227e+06</td>\n",
       "      <td>5.000000</td>\n",
       "      <td>433.182000</td>\n",
       "      <td>169.000000</td>\n",
       "      <td>1.000000</td>\n",
       "    </tr>\n",
       "  </tbody>\n",
       "</table>\n",
       "</div>"
      ],
      "text/plain": [
       "       danceability        energy           key      loudness          mode  \\\n",
       "count  41106.000000  41106.000000  41106.000000  41106.000000  41106.000000   \n",
       "mean       0.539695      0.579545      5.213594    -10.221525      0.693354   \n",
       "std        0.177821      0.252628      3.534977      5.311626      0.461107   \n",
       "min        0.000000      0.000251      0.000000    -49.253000      0.000000   \n",
       "25%        0.420000      0.396000      2.000000    -12.816000      0.000000   \n",
       "50%        0.552000      0.601000      5.000000     -9.257000      1.000000   \n",
       "75%        0.669000      0.787000      8.000000     -6.374250      1.000000   \n",
       "max        0.988000      1.000000     11.000000      3.744000      1.000000   \n",
       "\n",
       "        speechiness  acousticness  instrumentalness      liveness  \\\n",
       "count  41106.000000  41106.000000      41106.000000  41106.000000   \n",
       "mean       0.072960      0.364197          0.154416      0.201535   \n",
       "std        0.086112      0.338913          0.303530      0.172959   \n",
       "min        0.000000      0.000000          0.000000      0.013000   \n",
       "25%        0.033700      0.039400          0.000000      0.094000   \n",
       "50%        0.043400      0.258000          0.000120      0.132000   \n",
       "75%        0.069800      0.676000          0.061250      0.261000   \n",
       "max        0.960000      0.996000          1.000000      0.999000   \n",
       "\n",
       "            valence         tempo   duration_ms  time_signature    chorus_hit  \\\n",
       "count  41106.000000  41106.000000  4.110600e+04    41106.000000  41106.000000   \n",
       "mean       0.542440    119.338249  2.348776e+05        3.893689     40.106041   \n",
       "std        0.267329     29.098845  1.189674e+05        0.423073     19.005515   \n",
       "min        0.000000      0.000000  1.516800e+04        0.000000      0.000000   \n",
       "25%        0.330000     97.397000  1.729278e+05        4.000000     27.599792   \n",
       "50%        0.558000    117.565000  2.179070e+05        4.000000     35.850795   \n",
       "75%        0.768000    136.494000  2.667730e+05        4.000000     47.625615   \n",
       "max        0.996000    241.423000  4.170227e+06        5.000000    433.182000   \n",
       "\n",
       "           sections        target  \n",
       "count  41106.000000  41106.000000  \n",
       "mean      10.475673      0.500000  \n",
       "std        4.871850      0.500006  \n",
       "min        0.000000      0.000000  \n",
       "25%        8.000000      0.000000  \n",
       "50%       10.000000      0.500000  \n",
       "75%       12.000000      1.000000  \n",
       "max      169.000000      1.000000  "
      ]
     },
     "execution_count": 9,
     "metadata": {},
     "output_type": "execute_result"
    }
   ],
   "source": [
    "df_whole.describe()"
   ]
  },
  {
   "cell_type": "markdown",
   "id": "492412e7",
   "metadata": {},
   "source": [
    "**Q1.2** \n",
    "\n",
    "Is there any missing values in key?"
   ]
  },
  {
   "cell_type": "code",
   "execution_count": 10,
   "id": "5f1490a8",
   "metadata": {},
   "outputs": [
    {
     "name": "stdout",
     "output_type": "stream",
     "text": [
      "There is no missingness in key variable.\n"
     ]
    }
   ],
   "source": [
    "# If no key was detected, the value is -1\n",
    "if sum(df_whole['key'] == -1) == 0:\n",
    "    print(\"There is no missingness in key variable.\")"
   ]
  },
  {
   "cell_type": "code",
   "execution_count": 11,
   "id": "58697f90",
   "metadata": {},
   "outputs": [
    {
     "data": {
      "text/plain": [
       "(41106, 20)"
      ]
     },
     "execution_count": 11,
     "metadata": {},
     "output_type": "execute_result"
    }
   ],
   "source": [
    "df_whole.shape"
   ]
  },
  {
   "cell_type": "code",
   "execution_count": 12,
   "id": "0e1669c5",
   "metadata": {},
   "outputs": [
    {
     "name": "stdout",
     "output_type": "stream",
     "text": [
      "<class 'pandas.core.frame.DataFrame'>\n",
      "Int64Index: 41106 entries, 0 to 6397\n",
      "Data columns (total 20 columns):\n",
      " #   Column            Non-Null Count  Dtype  \n",
      "---  ------            --------------  -----  \n",
      " 0   track             41106 non-null  object \n",
      " 1   artist            41106 non-null  object \n",
      " 2   uri               41106 non-null  object \n",
      " 3   danceability      41106 non-null  float64\n",
      " 4   energy            41106 non-null  float64\n",
      " 5   key               41106 non-null  int64  \n",
      " 6   loudness          41106 non-null  float64\n",
      " 7   mode              41106 non-null  int64  \n",
      " 8   speechiness       41106 non-null  float64\n",
      " 9   acousticness      41106 non-null  float64\n",
      " 10  instrumentalness  41106 non-null  float64\n",
      " 11  liveness          41106 non-null  float64\n",
      " 12  valence           41106 non-null  float64\n",
      " 13  tempo             41106 non-null  float64\n",
      " 14  duration_ms       41106 non-null  int64  \n",
      " 15  time_signature    41106 non-null  int64  \n",
      " 16  chorus_hit        41106 non-null  float64\n",
      " 17  sections          41106 non-null  int64  \n",
      " 18  target            41106 non-null  int64  \n",
      " 19  decade            41106 non-null  object \n",
      "dtypes: float64(10), int64(6), object(4)\n",
      "memory usage: 6.6+ MB\n"
     ]
    }
   ],
   "source": [
    "df_whole.info()"
   ]
  },
  {
   "cell_type": "markdown",
   "id": "504c5e96",
   "metadata": {},
   "source": [
    "**Q1.3** \n",
    "\n",
    "Should we treat `speechiness` as a continuous variable or a categorical variable?"
   ]
  },
  {
   "cell_type": "code",
   "execution_count": 13,
   "id": "44200985",
   "metadata": {},
   "outputs": [
    {
     "name": "stdout",
     "output_type": "stream",
     "text": [
      "There is a total of 40144 observations for music and other non-speech-like tracks.\n",
      "There is a total of 820 observations for both music and speech.\n",
      "There is a total of 141 observations for entirely spoken.\n"
     ]
    }
   ],
   "source": [
    "# Based on definition\n",
    "speechiness_cat = pd.cut(df_whole['speechiness'], \n",
    "                        bins = [0, 0.33, 0.66, 1], \n",
    "                        labels = [\"music and other non-speech-like tracks\", \"both music and speech\", \"entirely spoken\"])\n",
    "\n",
    "value_counts = speechiness_cat.value_counts()\n",
    "for category, counts in zip(value_counts.index.values, value_counts.values):\n",
    "    print(f\"There is a total of {counts} observations for {category}.\")"
   ]
  },
  {
   "cell_type": "markdown",
   "id": "63ed0b3a",
   "metadata": {},
   "source": [
    "The resulting categorical version of `speechiness` is highly unbalanced, based on the definition. Therefore, we do not transform it to categorical variable here."
   ]
  },
  {
   "cell_type": "markdown",
   "id": "3bcccf80",
   "metadata": {},
   "source": [
    "List numarical columns. Remove `target` from the numerical columns."
   ]
  },
  {
   "cell_type": "code",
   "execution_count": 14,
   "id": "8b81eb0f",
   "metadata": {},
   "outputs": [
    {
     "data": {
      "text/plain": [
       "['danceability',\n",
       " 'energy',\n",
       " 'loudness',\n",
       " 'speechiness',\n",
       " 'acousticness',\n",
       " 'instrumentalness',\n",
       " 'liveness',\n",
       " 'valence',\n",
       " 'tempo',\n",
       " 'duration_ms',\n",
       " 'time_signature',\n",
       " 'chorus_hit',\n",
       " 'sections']"
      ]
     },
     "execution_count": 14,
     "metadata": {},
     "output_type": "execute_result"
    }
   ],
   "source": [
    "num_cols = list(df_whole._get_numeric_data().columns)\n",
    "num_cols.remove('target')\n",
    "num_cols.remove('mode') # this is a categorical feature based on definition\n",
    "num_cols.remove('key') # this is a categorical feature based on definition\n",
    "num_cols"
   ]
  },
  {
   "cell_type": "markdown",
   "id": "c7f6c495",
   "metadata": {},
   "source": [
    "List categorical columns"
   ]
  },
  {
   "cell_type": "code",
   "execution_count": 15,
   "id": "eab569b7",
   "metadata": {},
   "outputs": [
    {
     "data": {
      "text/plain": [
       "['key', 'artist', 'mode', 'uri', 'track', 'decade']"
      ]
     },
     "execution_count": 15,
     "metadata": {},
     "output_type": "execute_result"
    }
   ],
   "source": [
    "cat_cols = list(set(df_whole.columns) - set(num_cols))\n",
    "cat_cols.remove('target')\n",
    "cat_cols"
   ]
  },
  {
   "cell_type": "markdown",
   "id": "a5188458",
   "metadata": {},
   "source": [
    "Count frequency of category values"
   ]
  },
  {
   "cell_type": "code",
   "execution_count": 16,
   "id": "4a3ffc4a",
   "metadata": {},
   "outputs": [
    {
     "name": "stdout",
     "output_type": "stream",
     "text": [
      "----------------------------\n",
      "key 0     5130\n",
      "7     4962\n",
      "2     4619\n",
      "9     4469\n",
      "5     3790\n",
      "4     3323\n",
      "1     3278\n",
      "11    2815\n",
      "10    2728\n",
      "8     2345\n",
      "6     2217\n",
      "3     1430\n",
      "Name: key, dtype: int64\n",
      "----------------------------\n",
      "artist Traditional          207\n",
      "Harry Belafonte      140\n",
      "P. Susheela          130\n",
      "Ennio Morricone      128\n",
      "Jerry Goldsmith      124\n",
      "                    ... \n",
      "Voyce                  1\n",
      "Johnny Laboriel        1\n",
      "Tribe 8                1\n",
      "Albert Burbank         1\n",
      "The Neighbourhood      1\n",
      "Name: artist, Length: 11904, dtype: int64\n",
      "----------------------------\n",
      "mode 1    28501\n",
      "0    12605\n",
      "Name: mode, dtype: int64\n",
      "----------------------------\n",
      "uri spotify:track:0RgcOUQg4qYAEt9RIdf3oB    3\n",
      "spotify:track:7tFiyTwD0nx5a1eklYtX2J    3\n",
      "spotify:track:7vvRkLPIvfjjmCIqNxBuEZ    3\n",
      "spotify:track:0hA8G8smCwi1h1nmxyRqT3    3\n",
      "spotify:track:2fQ6sBFWaLv2Gxos4igHLy    3\n",
      "                                       ..\n",
      "spotify:track:458uxnhrgXDCxD8br6DScs    1\n",
      "spotify:track:3mrrWFfuesBi5fswdz1Xxf    1\n",
      "spotify:track:3OmaOWAYHx2aCttONtkRew    1\n",
      "spotify:track:1dBhbbWulfKC9Z3EoHPpG4    1\n",
      "spotify:track:2khIaVUkbMmDHB596lyMG3    1\n",
      "Name: uri, Length: 40560, dtype: int64\n",
      "----------------------------\n",
      "track Falling                       17\n",
      "Angel                         13\n",
      "Hold On                       12\n",
      "You                           12\n",
      "Crazy                         12\n",
      "                              ..\n",
      "Change With The Times          1\n",
      "Thunder 6                      1\n",
      "Big Blues                      1\n",
      "Rockin' All Over The World     1\n",
      "Calling My Spirit              1\n",
      "Name: track, Length: 35860, dtype: int64\n",
      "----------------------------\n",
      "decade 60    8642\n",
      "70    7766\n",
      "80    6908\n",
      "10    6398\n",
      "00    5872\n",
      "90    5520\n",
      "Name: decade, dtype: int64\n"
     ]
    }
   ],
   "source": [
    "for col in cat_cols:\n",
    "    print(\"----------------------------\")\n",
    "    print(col, df_whole[col].value_counts())"
   ]
  },
  {
   "cell_type": "markdown",
   "id": "af3e3d17",
   "metadata": {},
   "source": [
    "### Missing values"
   ]
  },
  {
   "cell_type": "code",
   "execution_count": 17,
   "id": "b38da60f",
   "metadata": {},
   "outputs": [],
   "source": [
    "# ! pip install missingno"
   ]
  },
  {
   "cell_type": "code",
   "execution_count": 18,
   "id": "f078a972",
   "metadata": {},
   "outputs": [],
   "source": [
    "import missingno as msno"
   ]
  },
  {
   "cell_type": "code",
   "execution_count": 19,
   "id": "28f0a04c",
   "metadata": {},
   "outputs": [
    {
     "data": {
      "text/plain": [
       "<AxesSubplot:>"
      ]
     },
     "execution_count": 19,
     "metadata": {},
     "output_type": "execute_result"
    },
    {
     "data": {
      "image/png": "[encoded data removed]",
      "text/plain": [
       "<Figure size 1800x720 with 3 Axes>"
      ]
     },
     "metadata": {
      "needs_background": "light"
     },
     "output_type": "display_data"
    }
   ],
   "source": [
    "# Gives a bar chart of the missing values\n",
    "msno.bar(df_whole)"
   ]
  },
  {
   "cell_type": "code",
   "execution_count": 20,
   "id": "63a3d945",
   "metadata": {},
   "outputs": [
    {
     "data": {
      "text/plain": [
       "<AxesSubplot:>"
      ]
     },
     "execution_count": 20,
     "metadata": {},
     "output_type": "execute_result"
    },
    {
     "data": {
      "image/png": "[encoded data removed]",
      "text/plain": [
       "<Figure size 1800x720 with 2 Axes>"
      ]
     },
     "metadata": {
      "needs_background": "light"
     },
     "output_type": "display_data"
    }
   ],
   "source": [
    "# Gives positional information of the missing values\n",
    "msno.matrix(df_whole)"
   ]
  },
  {
   "cell_type": "markdown",
   "id": "ee8c974c",
   "metadata": {},
   "source": [
    "There is no missing values at all!"
   ]
  },
  {
   "cell_type": "markdown",
   "id": "d02d0ba8",
   "metadata": {},
   "source": [
    "#### Data imbalanceness"
   ]
  },
  {
   "cell_type": "code",
   "execution_count": 21,
   "id": "91624abb",
   "metadata": {},
   "outputs": [
    {
     "data": {
      "text/plain": [
       "1    20553\n",
       "0    20553\n",
       "Name: target, dtype: int64"
      ]
     },
     "execution_count": 21,
     "metadata": {},
     "output_type": "execute_result"
    }
   ],
   "source": [
    "df_whole.target.value_counts()"
   ]
  },
  {
   "cell_type": "markdown",
   "id": "185e5e60",
   "metadata": {},
   "source": [
    "The target variable is perfectly balanced, so we will not worry about data data imbalanceness in the trainging process."
   ]
  },
  {
   "cell_type": "markdown",
   "id": "5a2afe26",
   "metadata": {},
   "source": [
    "<a id=\"part2\"></a>\n",
    "\n",
    "## Visualizations and captions\n",
    "\n",
    "[Return to contents](#contents)"
   ]
  },
  {
   "cell_type": "markdown",
   "id": "07996341",
   "metadata": {},
   "source": [
    "Now we want to do some interesting exploratory data analysis (EDA) to explore the patterns in the dataset that can be helpful for song success prediction. However, before we do EDA, we want to have a holdout set of the data for the purpose of testing models' performance at the every end. We will only do EDA on training (and validation) data. "
   ]
  },
  {
   "cell_type": "code",
   "execution_count": 22,
   "id": "36f91460",
   "metadata": {},
   "outputs": [],
   "source": [
    "np.random.seed(209)\n",
    "df_train, df_test = train_test_split(\n",
    "    df_whole,\n",
    "    test_size=0.2,\n",
    "    random_state=209,\n",
    "    shuffle=True,\n",
    ")"
   ]
  },
  {
   "cell_type": "code",
   "execution_count": 23,
   "id": "6d3d557c",
   "metadata": {},
   "outputs": [],
   "source": [
    "X_train = df_train.drop(columns=['target'])\n",
    "y_train = df_train['target'] \n",
    "X_test = df_test.drop(columns=['target'])\n",
    "y_test = df_test['target']"
   ]
  },
  {
   "cell_type": "markdown",
   "id": "47c52fb0",
   "metadata": {},
   "source": [
    "#### Explore how each of our predictors is associated with the target"
   ]
  },
  {
   "cell_type": "code",
   "execution_count": 24,
   "id": "a742801a",
   "metadata": {},
   "outputs": [
    {
     "data": {
      "image/png": "[encoded data removed]",
      "text/plain": [
       "<Figure size 1296x1440 with 16 Axes>"
      ]
     },
     "metadata": {
      "needs_background": "light"
     },
     "output_type": "display_data"
    }
   ],
   "source": [
    "predictor_ls = num_cols + ['mode', 'decade', 'key']\n",
    "hist = num_cols\n",
    "fig, axes = plt.subplots(4,4, sharey=False, figsize=(18,20))\n",
    "plt.suptitle(\"Predictors' distribution by 'hit' status\", x = 0.5, y = 1, fontsize = 25, color = [37/255, 169/255, 224/255])\n",
    "\n",
    "for i, (ax, predictor) in enumerate(zip(axes.flat, predictor_ls)):\n",
    "    if predictor in hist:\n",
    "        ax.hist(\n",
    "            X_train[predictor][(y_train == 1)],bins = 20, color = \"dodgerblue\", \n",
    "            density=True, alpha=0.5, label=\"hit\")\n",
    "        ax.hist(\n",
    "            X_train[predictor][(y_train != 1)],bins = 20, color = \"orange\", \n",
    "            density=True, alpha=0.5, label=\"flop\")\n",
    "    else:\n",
    "        hit_counts = X_train[predictor][(y_train == 1)].value_counts().sort_index()\n",
    "        flop_counts = X_train[predictor][(y_train != 1)].value_counts().sort_index()\n",
    "\n",
    "        ax.bar(hit_counts.index.values,\n",
    "               hit_counts.values/np.sum(hit_counts.values),\n",
    "               alpha=0.5, label=\"hit\")\n",
    "        ax.bar(flop_counts.index.values,\n",
    "               flop_counts.values/np.sum(flop_counts.values),\n",
    "               alpha=0.5, label=\"flop\")\n",
    "        ax.set_xticks(flop_counts.index)\n",
    "    ax.set_xlabel(predictor, fontsize = 15)\n",
    "    ax.set_ylabel('Percentage', fontsize = 15)\n",
    "    # ax.grid(\":\", alpha=0.4)\n",
    "    ax.legend(fontsize = 'large')\n",
    "    \n",
    "plt.tight_layout()\n",
    "plt.show()"
   ]
  },
  {
   "cell_type": "markdown",
   "id": "f1420ec0",
   "metadata": {},
   "source": [
    "We don't include `artist`, `uri`, and `track` in the figure above because these three columns have too many categories that is hard to visualize in a small figure. "
   ]
  },
  {
   "cell_type": "code",
   "execution_count": 25,
   "id": "c929c378",
   "metadata": {},
   "outputs": [
    {
     "name": "stdout",
     "output_type": "stream",
     "text": [
      "Summary statistics of duration_ms:\n"
     ]
    },
    {
     "data": {
      "text/html": [
       "<div>\n",
       "<style scoped>\n",
       "    .dataframe tbody tr th:only-of-type {\n",
       "        vertical-align: middle;\n",
       "    }\n",
       "\n",
       "    .dataframe tbody tr th {\n",
       "        vertical-align: top;\n",
       "    }\n",
       "\n",
       "    .dataframe thead th {\n",
       "        text-align: right;\n",
       "    }\n",
       "</style>\n",
       "<table border=\"1\" class=\"dataframe\">\n",
       "  <thead>\n",
       "    <tr style=\"text-align: right;\">\n",
       "      <th></th>\n",
       "      <th>mean</th>\n",
       "      <th>std</th>\n",
       "      <th>max</th>\n",
       "      <th>min</th>\n",
       "      <th>percentile25</th>\n",
       "      <th>percentile75</th>\n",
       "    </tr>\n",
       "    <tr>\n",
       "      <th>target</th>\n",
       "      <th></th>\n",
       "      <th></th>\n",
       "      <th></th>\n",
       "      <th></th>\n",
       "      <th></th>\n",
       "      <th></th>\n",
       "    </tr>\n",
       "  </thead>\n",
       "  <tbody>\n",
       "    <tr>\n",
       "      <th>0</th>\n",
       "      <td>243945.117597</td>\n",
       "      <td>153764.882906</td>\n",
       "      <td>4170227</td>\n",
       "      <td>15168</td>\n",
       "      <td>163333.0</td>\n",
       "      <td>282100.25</td>\n",
       "    </tr>\n",
       "    <tr>\n",
       "      <th>1</th>\n",
       "      <td>226272.188271</td>\n",
       "      <td>65680.230856</td>\n",
       "      <td>1367093</td>\n",
       "      <td>46893</td>\n",
       "      <td>181800.0</td>\n",
       "      <td>257993.25</td>\n",
       "    </tr>\n",
       "  </tbody>\n",
       "</table>\n",
       "</div>"
      ],
      "text/plain": [
       "                 mean            std      max    min  percentile25  \\\n",
       "target                                                               \n",
       "0       243945.117597  153764.882906  4170227  15168      163333.0   \n",
       "1       226272.188271   65680.230856  1367093  46893      181800.0   \n",
       "\n",
       "        percentile75  \n",
       "target                \n",
       "0          282100.25  \n",
       "1          257993.25  "
      ]
     },
     "execution_count": 25,
     "metadata": {},
     "output_type": "execute_result"
    }
   ],
   "source": [
    "def percentile25(x): return np.percentile(x, 25)\n",
    "def percentile75(x): return np.percentile(x, 75)\n",
    "print(\"Summary statistics of duration_ms:\")\n",
    "X_train.groupby(y_train)['duration_ms'].agg([np.mean, np.std, 'max', 'min', percentile25, percentile75])"
   ]
  },
  {
   "cell_type": "markdown",
   "id": "4eca871c",
   "metadata": {},
   "source": [
    "There is a difference between hit and flop songs with respect to the `duration_ms` variable based on the plots and summary statistics. Therefore, we will pay more attension to this variable in later analysis."
   ]
  },
  {
   "cell_type": "code",
   "execution_count": 26,
   "id": "84532557",
   "metadata": {},
   "outputs": [
    {
     "data": {
      "image/png": "[encoded data removed]",
      "text/plain": [
       "<Figure size 720x576 with 2 Axes>"
      ]
     },
     "metadata": {
      "needs_background": "light"
     },
     "output_type": "display_data"
    }
   ],
   "source": [
    "fig, ax = plt.subplots(figsize = (10, 8))\n",
    "sns.heatmap(np.round(X_train[num_cols].corr(), 3), cmap=\"Blues\", annot=True)\n",
    "ax.set_title(\"Heatmap of coutinuous features\")\n",
    "plt.show()"
   ]
  },
  {
   "cell_type": "markdown",
   "id": "b02de77a",
   "metadata": {},
   "source": [
    "Based on the heatmap, we can see that some variables are highly correlated, such as sections and duration_ms, energy and loudness, and so on. Therefore, we will also consider dimension reduction method."
   ]
  },
  {
   "cell_type": "code",
   "execution_count": 27,
   "id": "1aae9e3d",
   "metadata": {},
   "outputs": [
    {
     "data": {
      "image/png": "[encoded data removed]",
      "text/plain": [
       "<Figure size 576x432 with 1 Axes>"
      ]
     },
     "metadata": {
      "needs_background": "light"
     },
     "output_type": "display_data"
    }
   ],
   "source": [
    "scaler = StandardScaler()\n",
    "X_std = pd.DataFrame(scaler.fit_transform(X_train[num_cols]), columns = num_cols)\n",
    "\n",
    "plt.figure(figsize = (8,6))\n",
    "cov_mat = np.cov(X_std.values.T)\n",
    "eigen_vals, eigen_vecs = la.eig(cov_mat)\n",
    "tot = sum(eigen_vals)\n",
    "var_exp = [(i / tot) for i in\n",
    "            sorted(eigen_vals, reverse=True)]\n",
    "cum_var_exp = np.cumsum(var_exp)\n",
    "plt.bar(range(1,14), var_exp, alpha=0.5, align='center',\n",
    "         label='individual explained variance')\n",
    "plt.step(range(1,14), cum_var_exp, where='mid',\n",
    "        label='cumulative explained variance')\n",
    "plt.ylabel('Explained variance ratio')\n",
    "plt.xlabel('Principal component index')\n",
    "plt.title(\"PCA for the features\")\n",
    "plt.legend(loc='best')\n",
    "plt.show()"
   ]
  },
  {
   "cell_type": "code",
   "execution_count": 28,
   "id": "027f3d60",
   "metadata": {},
   "outputs": [],
   "source": [
    "scalerX = StandardScaler().fit(X_train[num_cols])\n",
    "X_train_std = pd.DataFrame(np.hstack((scalerX.transform(X_train[num_cols]), X_train[['mode', 'decade', 'key']])), columns = predictor_ls) \n",
    "X_test_std = pd.DataFrame(np.hstack((scalerX.transform(X_test[num_cols]), X_test[['mode', 'decade', 'key']])), columns = predictor_ls) "
   ]
  },
  {
   "cell_type": "code",
   "execution_count": 29,
   "id": "d2deb9df",
   "metadata": {},
   "outputs": [
    {
     "name": "stdout",
     "output_type": "stream",
     "text": [
      "The accuracy score of 10-fold cross validation for logreg is 0.729 +/- 0.009\n",
      "The test accuracy score for logreg is 0.731\n",
      "----------------------------------------------------------------------\n",
      "The accuracy score of 10-fold cross validation for Knn is 0.744 +/- 0.005\n",
      "The test accuracy score for Knn is 0.744\n",
      "----------------------------------------------------------------------\n",
      "The accuracy score of 10-fold cross validation for decision tree is 0.714 +/- 0.01\n",
      "The test accuracy score for decision tree is 0.714\n",
      "----------------------------------------------------------------------\n"
     ]
    }
   ],
   "source": [
    "# fit three basic classifier models\n",
    "basic_classifier = ['logreg', 'Knn', 'decision tree']\n",
    "estimator = [LogisticRegression(random_state = 123, max_iter = 1000),\n",
    "             KNeighborsClassifier(),\n",
    "             DecisionTreeClassifier(random_state = 123)]\n",
    "k = 10\n",
    "for i in range(3):\n",
    "    cv_score = cross_val_score(estimator[i], X_train_std, y_train, cv = k)\n",
    "    print('The accuracy score of {}-fold cross validation for {} is {} +/- {}'.format(k, basic_classifier[i],\n",
    "                                                                                   np.round(np.mean(cv_score), 3),\n",
    "                                                                                   np.round(np.std(cv_score), 3)))\n",
    "    clf = estimator[i]\n",
    "    clf.fit(X_train_std, y_train)\n",
    "    print('The test accuracy score for {} is {}'.format(basic_classifier[i],\n",
    "                                                         np.round(clf.score(X_test_std, y_test), 3)))\n",
    "    print('----------------------------------------------------------------------')   "
   ]
  },
  {
   "cell_type": "markdown",
   "id": "3711e7f9",
   "metadata": {},
   "source": [
    "## Model\n",
    "\n",
    "Below is a list of models we are going to use:\n",
    "\n",
    "Model:\n",
    "- Logistic regression\n",
    "- kNN\n",
    "- Tree-based models\n",
    "    - Random forest\n",
    "    - Adaboost (for classification)\n",
    "- Stacking\n",
    "- Neural networks\n",
    "\n",
    "Deliverable:\n",
    "- Time complexity\n",
    "- All metrics (depends on objectives of different stakeholders)\n",
    "- ROC curve (for best model)\n",
    "- Feature importance\n",
    "- Plots"
   ]
  },
  {
   "cell_type": "markdown",
   "id": "889f96e7",
   "metadata": {},
   "source": [
    "### Logistic regression"
   ]
  },
  {
   "cell_type": "markdown",
   "id": "470cf388",
   "metadata": {},
   "source": [
    "Since we also want to find out the most influential predictor for songs to become a hit, we use lasso logistic regression here to preserve only the most important ones."
   ]
  },
  {
   "cell_type": "code",
   "execution_count": 40,
   "id": "84ed5458",
   "metadata": {},
   "outputs": [],
   "source": [
    "# matrix to store time results of all models\n",
    "time_matrix = np.zeros(6)"
   ]
  },
  {
   "cell_type": "code",
   "execution_count": 41,
   "id": "cfcd51e7",
   "metadata": {},
   "outputs": [
    {
     "name": "stderr",
     "output_type": "stream",
     "text": [
      "/Users/kenneth/opt/anaconda3/lib/python3.9/site-packages/sklearn/model_selection/_validation.py:372: FitFailedWarning: \n",
      "120 fits failed out of a total of 240.\n",
      "The score on these train-test partitions for these parameters will be set to 0.\n",
      "If these failures are not expected, you can try to debug them by setting error_score='raise'.\n",
      "\n",
      "Below are more details about the failures:\n",
      "--------------------------------------------------------------------------------\n",
      "40 fits failed with the following error:\n",
      "Traceback (most recent call last):\n",
      "  File \"/Users/kenneth/opt/anaconda3/lib/python3.9/site-packages/sklearn/model_selection/_validation.py\", line 680, in _fit_and_score\n",
      "    estimator.fit(X_train, y_train, **fit_params)\n",
      "  File \"/Users/kenneth/opt/anaconda3/lib/python3.9/site-packages/sklearn/linear_model/_logistic.py\", line 1461, in fit\n",
      "    solver = _check_solver(self.solver, self.penalty, self.dual)\n",
      "  File \"/Users/kenneth/opt/anaconda3/lib/python3.9/site-packages/sklearn/linear_model/_logistic.py\", line 447, in _check_solver\n",
      "    raise ValueError(\n",
      "ValueError: Solver newton-cg supports only 'l2' or 'none' penalties, got l1 penalty.\n",
      "\n",
      "--------------------------------------------------------------------------------\n",
      "40 fits failed with the following error:\n",
      "Traceback (most recent call last):\n",
      "  File \"/Users/kenneth/opt/anaconda3/lib/python3.9/site-packages/sklearn/model_selection/_validation.py\", line 680, in _fit_and_score\n",
      "    estimator.fit(X_train, y_train, **fit_params)\n",
      "  File \"/Users/kenneth/opt/anaconda3/lib/python3.9/site-packages/sklearn/linear_model/_logistic.py\", line 1471, in fit\n",
      "    raise ValueError(\n",
      "ValueError: l1_ratio must be between 0 and 1; got (l1_ratio=None)\n",
      "\n",
      "--------------------------------------------------------------------------------\n",
      "40 fits failed with the following error:\n",
      "Traceback (most recent call last):\n",
      "  File \"/Users/kenneth/opt/anaconda3/lib/python3.9/site-packages/sklearn/model_selection/_validation.py\", line 680, in _fit_and_score\n",
      "    estimator.fit(X_train, y_train, **fit_params)\n",
      "  File \"/Users/kenneth/opt/anaconda3/lib/python3.9/site-packages/sklearn/linear_model/_logistic.py\", line 1461, in fit\n",
      "    solver = _check_solver(self.solver, self.penalty, self.dual)\n",
      "  File \"/Users/kenneth/opt/anaconda3/lib/python3.9/site-packages/sklearn/linear_model/_logistic.py\", line 447, in _check_solver\n",
      "    raise ValueError(\n",
      "ValueError: Solver newton-cg supports only 'l2' or 'none' penalties, got elasticnet penalty.\n",
      "\n",
      "  warnings.warn(some_fits_failed_message, FitFailedWarning)\n"
     ]
    }
   ],
   "source": [
    "parameters = {\"penalty\": ['l1', 'l2', 'elasticnet'], \n",
    "              \"C\": [1e-2, 1e-1, 1, 1e1],\n",
    "              \"solver\": ['saga', \"newton-cg\"]}\n",
    "lg = LogisticRegression()\n",
    "clf = GridSearchCV(lg, parameters, error_score=0, n_jobs=-1, cv=10, return_train_score=True).fit(X_train_std, y_train)"
   ]
  },
  {
   "cell_type": "code",
   "execution_count": 42,
   "id": "115428c7",
   "metadata": {},
   "outputs": [
    {
     "name": "stdout",
     "output_type": "stream",
     "text": [
      "The best hyperparameter C for regularization is:  {'C': 0.01, 'penalty': 'l2', 'solver': 'saga'}\n",
      "The training accuracy is:  0.73\n",
      "The test accuracy is:  0.731\n",
      "Confusion matrix: \n",
      " [[2586 1453]\n",
      " [ 761 3422]]\n",
      "Classification report: \n",
      "               precision    recall  f1-score   support\n",
      "\n",
      "           0       0.77      0.64      0.70      4039\n",
      "           1       0.70      0.82      0.76      4183\n",
      "\n",
      "    accuracy                           0.73      8222\n",
      "   macro avg       0.74      0.73      0.73      8222\n",
      "weighted avg       0.74      0.73      0.73      8222\n",
      "\n"
     ]
    }
   ],
   "source": [
    "best_param = clf.best_params_\n",
    "start = time.time()\n",
    "best_lg = LogisticRegression(penalty=\"l2\", C=0.01, solver='saga').fit(X_train_std, y_train)\n",
    "end = time.time()\n",
    "time_matrix[0] = np.round(end - start, 2)\n",
    "train_acc_lg = best_lg.score(X_train_std, y_train)\n",
    "test_acc_lg = best_lg.score(X_test_std, y_test)\n",
    "y_pred_lg = best_lg.predict(X_test_std)\n",
    "\n",
    "print(\"The best hyperparameter C for regularization is: \", best_param)\n",
    "print(\"The training accuracy is: \", np.round(train_acc_lg, 3))\n",
    "print(\"The test accuracy is: \", np.round(test_acc_lg, 3))\n",
    "print(\"Confusion matrix: \\n\", confusion_matrix(y_test, y_pred_lg))\n",
    "print(\"Classification report: \\n\", classification_report(y_test, y_pred_lg))\n"
   ]
  },
  {
   "cell_type": "code",
   "execution_count": 142,
   "id": "c1c20c21",
   "metadata": {},
   "outputs": [
    {
     "data": {
      "image/png": "[encoded data removed]",
      "text/plain": [
       "<Figure size 576x432 with 1 Axes>"
      ]
     },
     "metadata": {
      "needs_background": "light"
     },
     "output_type": "display_data"
    }
   ],
   "source": [
    "fig, ax = plt.subplots(figsize = (8, 6))\n",
    "\n",
    "# to be replotted yet\n",
    "ax.plot(np.log10(Cs), train_acc_list, label=\"Train\")\n",
    "ax.plot(np.log10(Cs), val_acc_list, label=\"Validation\")\n",
    "ax.set_xlabel(f\"$lg(C)$\")\n",
    "ax.set_ylabel(\"Accuracy\")\n",
    "ax.set_title(\"Training and Test Accuracy for Logistic Regression across C\")\n",
    "ax.legend()\n",
    "plt.show()"
   ]
  },
  {
   "cell_type": "markdown",
   "id": "157324f8",
   "metadata": {},
   "source": [
    "- According to this plot, when $C \\geq 0$, the performance doesn't vary that much, implying that for logistic regression, regularization in this case doesn't really help ($C$ is the inverse of $\\lambda$) because the more we regularize, the worse the performance.\n",
    "- The reason is probably that the number of observations is far greater than that of dimensions, so every predictor counts."
   ]
  },
  {
   "cell_type": "code",
   "execution_count": 43,
   "id": "0b2ba783",
   "metadata": {},
   "outputs": [
    {
     "data": {
      "text/html": [
       "<div>\n",
       "<style scoped>\n",
       "    .dataframe tbody tr th:only-of-type {\n",
       "        vertical-align: middle;\n",
       "    }\n",
       "\n",
       "    .dataframe tbody tr th {\n",
       "        vertical-align: top;\n",
       "    }\n",
       "\n",
       "    .dataframe thead th {\n",
       "        text-align: right;\n",
       "    }\n",
       "</style>\n",
       "<table border=\"1\" class=\"dataframe\">\n",
       "  <thead>\n",
       "    <tr style=\"text-align: right;\">\n",
       "      <th></th>\n",
       "      <th>Feature</th>\n",
       "      <th>Coefficient</th>\n",
       "    </tr>\n",
       "  </thead>\n",
       "  <tbody>\n",
       "    <tr>\n",
       "      <th>5</th>\n",
       "      <td>instrumentalness</td>\n",
       "      <td>-0.975876</td>\n",
       "    </tr>\n",
       "    <tr>\n",
       "      <th>0</th>\n",
       "      <td>danceability</td>\n",
       "      <td>0.586697</td>\n",
       "    </tr>\n",
       "    <tr>\n",
       "      <th>2</th>\n",
       "      <td>loudness</td>\n",
       "      <td>0.579872</td>\n",
       "    </tr>\n",
       "    <tr>\n",
       "      <th>4</th>\n",
       "      <td>acousticness</td>\n",
       "      <td>-0.448744</td>\n",
       "    </tr>\n",
       "    <tr>\n",
       "      <th>1</th>\n",
       "      <td>energy</td>\n",
       "      <td>-0.414748</td>\n",
       "    </tr>\n",
       "    <tr>\n",
       "      <th>13</th>\n",
       "      <td>mode</td>\n",
       "      <td>0.339237</td>\n",
       "    </tr>\n",
       "    <tr>\n",
       "      <th>3</th>\n",
       "      <td>speechiness</td>\n",
       "      <td>-0.245113</td>\n",
       "    </tr>\n",
       "    <tr>\n",
       "      <th>8</th>\n",
       "      <td>tempo</td>\n",
       "      <td>0.070324</td>\n",
       "    </tr>\n",
       "    <tr>\n",
       "      <th>9</th>\n",
       "      <td>duration_ms</td>\n",
       "      <td>-0.066437</td>\n",
       "    </tr>\n",
       "    <tr>\n",
       "      <th>7</th>\n",
       "      <td>valence</td>\n",
       "      <td>0.061756</td>\n",
       "    </tr>\n",
       "    <tr>\n",
       "      <th>10</th>\n",
       "      <td>time_signature</td>\n",
       "      <td>0.053095</td>\n",
       "    </tr>\n",
       "    <tr>\n",
       "      <th>6</th>\n",
       "      <td>liveness</td>\n",
       "      <td>-0.047104</td>\n",
       "    </tr>\n",
       "    <tr>\n",
       "      <th>11</th>\n",
       "      <td>chorus_hit</td>\n",
       "      <td>-0.045070</td>\n",
       "    </tr>\n",
       "    <tr>\n",
       "      <th>12</th>\n",
       "      <td>sections</td>\n",
       "      <td>-0.040942</td>\n",
       "    </tr>\n",
       "    <tr>\n",
       "      <th>15</th>\n",
       "      <td>key</td>\n",
       "      <td>0.008840</td>\n",
       "    </tr>\n",
       "    <tr>\n",
       "      <th>14</th>\n",
       "      <td>decade</td>\n",
       "      <td>0.004383</td>\n",
       "    </tr>\n",
       "  </tbody>\n",
       "</table>\n",
       "</div>"
      ],
      "text/plain": [
       "             Feature  Coefficient\n",
       "5   instrumentalness    -0.975876\n",
       "0       danceability     0.586697\n",
       "2           loudness     0.579872\n",
       "4       acousticness    -0.448744\n",
       "1             energy    -0.414748\n",
       "13              mode     0.339237\n",
       "3        speechiness    -0.245113\n",
       "8              tempo     0.070324\n",
       "9        duration_ms    -0.066437\n",
       "7            valence     0.061756\n",
       "10    time_signature     0.053095\n",
       "6           liveness    -0.047104\n",
       "11        chorus_hit    -0.045070\n",
       "12          sections    -0.040942\n",
       "15               key     0.008840\n",
       "14            decade     0.004383"
      ]
     },
     "execution_count": 43,
     "metadata": {},
     "output_type": "execute_result"
    }
   ],
   "source": [
    "\n",
    "# np.hstack((X_train_std.columns.values.reshape(-1, 1), best_lg.coef_.reshape(-1, 1)))\n",
    "\n",
    "fi = pd.DataFrame({\"Feature\": X_train_std.columns.values.reshape(-1,), \n",
    "                   \"Coefficient\": best_lg.coef_.reshape(-1,)})\n",
    "fi['abs'] = np.abs(fi.Coefficient)\n",
    "fi.sort_values(by=\"abs\", ascending=False).iloc[:, :2]"
   ]
  },
  {
   "cell_type": "markdown",
   "id": "9e6b0c9c",
   "metadata": {},
   "source": [
    "### kNN\n",
    "- distance metrics\n",
    "- sklearn assign weights"
   ]
  },
  {
   "cell_type": "code",
   "execution_count": 44,
   "id": "bd379a25",
   "metadata": {},
   "outputs": [],
   "source": [
    "parameters = {\"n_neighbors\": range(5, 45, 10),\n",
    "              \"weights\": [\"distance\"],\n",
    "              \"metric\": [\"cityblock\"]}\n",
    "knn = KNeighborsClassifier()\n",
    "clf = GridSearchCV(knn, parameters, error_score=0, n_jobs=-1, cv=10, return_train_score=True).fit(X_train_std, y_train)"
   ]
  },
  {
   "cell_type": "code",
   "execution_count": 47,
   "id": "f2794846",
   "metadata": {},
   "outputs": [
    {
     "name": "stdout",
     "output_type": "stream",
     "text": [
      "The best hyperparameter is:  {'metric': 'cityblock', 'n_neighbors': 15, 'weights': 'distance'}\n",
      "The training accuracy is:  1.0\n",
      "The test accuracy is:  0.756\n",
      "Confusion matrix: \n",
      " [[2367 1672]\n",
      " [ 332 3851]]\n",
      "Classification report: \n",
      "               precision    recall  f1-score   support\n",
      "\n",
      "           0       0.88      0.59      0.70      4039\n",
      "           1       0.70      0.92      0.79      4183\n",
      "\n",
      "    accuracy                           0.76      8222\n",
      "   macro avg       0.79      0.75      0.75      8222\n",
      "weighted avg       0.79      0.76      0.75      8222\n",
      "\n"
     ]
    }
   ],
   "source": [
    "# ks = range(1, 20, 5)\n",
    "# train_acc_list_knn = []\n",
    "# val_acc_list_knn = []\n",
    "# for k in tqdm(ks):\n",
    "#     knn = KNeighborsClassifier(n_neighbors=k, n_jobs=-1)\n",
    "#     results_knn = cross_validate(knn, X_train_std, y_train, cv=10, return_train_score=True)\n",
    "#     train_acc_list_knn.append(np.mean(results_knn[\"train_score\"]))\n",
    "#     val_acc_list_knn.append(np.mean(results_knn[\"test_score\"]))\n",
    "\n",
    "# best_param = clf_knn.best_params_\n",
    "# best_param = ks[np.argmax(val_acc_list_knn)]\n",
    "# best_knn = KNeighborsClassifier(n_neighbors=16, weights=\"distance\").fit(X_train_std, y_train)\n",
    "# best_knn = KNeighborsClassifier(n_neighbors=best_param, n_jobs=-1)\n",
    "\n",
    "train_acc_list = clf.cv_results_[\"mean_train_score\"]\n",
    "val_acc_list = clf.cv_results_[\"mean_test_score\"]\n",
    "best_param = clf.best_params_\n",
    "best_knn = KNeighborsClassifier(n_neighbors=best_param[\"n_neighbors\"], \n",
    "                                weights=best_param[\"weights\"],\n",
    "                                metric=best_param[\"metric\"]).fit(X_train_std, y_train)\n",
    "train_acc_knn = best_knn.score(X_train_std, y_train)\n",
    "test_acc_knn = best_knn.score(X_test_std, y_test)\n",
    "y_pred_knn = best_knn.predict(X_test_std)\n",
    "\n",
    "print(\"The best hyperparameter is: \", best_param)\n",
    "print(\"The training accuracy is: \", np.round(train_acc_knn, 3))\n",
    "print(\"The test accuracy is: \", np.round(test_acc_knn, 3))\n",
    "print(\"Confusion matrix: \\n\", confusion_matrix(y_test, y_pred_knn))\n",
    "print(\"Classification report: \\n\", classification_report(y_test, y_pred_knn))\n",
    "\n"
   ]
  },
  {
   "cell_type": "code",
   "execution_count": 48,
   "id": "31226fa9",
   "metadata": {},
   "outputs": [
    {
     "data": {
      "image/png": "[encoded data removed]",
      "text/plain": [
       "<Figure size 576x432 with 1 Axes>"
      ]
     },
     "metadata": {
      "needs_background": "light"
     },
     "output_type": "display_data"
    }
   ],
   "source": [
    "fig, ax = plt.subplots(figsize = (8, 6))\n",
    "\n",
    "ks = range(5, 45, 10)\n",
    "ax.plot(ks, train_acc_list, label=\"Train\")\n",
    "ax.plot(ks, val_acc_list, label=\"Validation\")\n",
    "ax.set_xlabel(\"k\")\n",
    "ax.set_ylabel(\"Accuracy\")\n",
    "ax.set_title(\"Training and Test Accuracy for kNN across k\")\n",
    "ax.legend()\n",
    "plt.show()"
   ]
  },
  {
   "cell_type": "markdown",
   "id": "2aeb1b6f",
   "metadata": {},
   "source": [
    "### Decision tree"
   ]
  },
  {
   "cell_type": "code",
   "execution_count": 49,
   "id": "3b580df0",
   "metadata": {},
   "outputs": [
    {
     "name": "stdout",
     "output_type": "stream",
     "text": [
      "Max possible depth is 33\n"
     ]
    }
   ],
   "source": [
    "dt = DecisionTreeClassifier().fit(X_train_std, y_train)\n",
    "print(\"Max possible depth is\", dt.get_depth())"
   ]
  },
  {
   "cell_type": "code",
   "execution_count": 50,
   "id": "11a6275d",
   "metadata": {},
   "outputs": [],
   "source": [
    "parameters = {\"max_depth\": range(1, 32, 3),\n",
    "              \"min_samples_split\": [0.001, 0.01, 0.1]}\n",
    "dt = DecisionTreeClassifier()\n",
    "clf = GridSearchCV(dt, parameters, cv=10, error_score=0, n_jobs=-1, return_train_score=True).fit(X_train_std, y_train)"
   ]
  },
  {
   "cell_type": "code",
   "execution_count": 51,
   "id": "479339d2",
   "metadata": {},
   "outputs": [
    {
     "name": "stdout",
     "output_type": "stream",
     "text": [
      "The best hyperparameter is:  {'max_depth': 10, 'min_samples_split': 0.01}\n",
      "The training accuracy is:  0.787\n",
      "The test accuracy is:  0.772\n",
      "Confusion matrix: \n",
      " [[2833 1206]\n",
      " [ 666 3517]]\n",
      "Classification report: \n",
      "               precision    recall  f1-score   support\n",
      "\n",
      "           0       0.81      0.70      0.75      4039\n",
      "           1       0.74      0.84      0.79      4183\n",
      "\n",
      "    accuracy                           0.77      8222\n",
      "   macro avg       0.78      0.77      0.77      8222\n",
      "weighted avg       0.78      0.77      0.77      8222\n",
      "\n"
     ]
    }
   ],
   "source": [
    "train_acc_list = clf.cv_results_[\"mean_train_score\"].reshape(-1, 3)\n",
    "val_acc_list = clf.cv_results_[\"mean_test_score\"].reshape(-1, 3)\n",
    "best_param = clf.best_params_\n",
    "best_dt = DecisionTreeClassifier(max_depth=best_param[\"max_depth\"], \n",
    "                                 min_samples_split=best_param[\"min_samples_split\"]).fit(X_train_std, y_train)\n",
    "train_acc_dt = best_dt.score(X_train_std, y_train)\n",
    "test_acc_dt = best_dt.score(X_test_std, y_test)\n",
    "y_pred_dt = best_dt.predict(X_test_std)\n",
    "\n",
    "print(\"The best hyperparameter is: \", best_param)\n",
    "print(\"The training accuracy is: \", np.round(train_acc_dt, 3))\n",
    "print(\"The test accuracy is: \", np.round(test_acc_dt, 3))\n",
    "print(\"Confusion matrix: \\n\", confusion_matrix(y_test, y_pred_dt))\n",
    "print(\"Classification report: \\n\", classification_report(y_test, y_pred_dt))\n"
   ]
  },
  {
   "cell_type": "code",
   "execution_count": 52,
   "id": "38b3e99c",
   "metadata": {},
   "outputs": [
    {
     "data": {
      "image/png": "[encoded data removed]",
      "text/plain": [
       "<Figure size 576x432 with 1 Axes>"
      ]
     },
     "metadata": {
      "needs_background": "light"
     },
     "output_type": "display_data"
    }
   ],
   "source": [
    "fig, ax = plt.subplots(figsize = (8, 6))\n",
    "\n",
    "depth = range(1, 32, 3)\n",
    "ax.plot(depth, train_acc_list[:, 1], label=\"Train\")\n",
    "ax.plot(depth, val_acc_list[:, 1], label=\"Validation\")\n",
    "ax.set_xlabel(\"Depth\")\n",
    "ax.set_ylabel(\"Accuracy\")\n",
    "ax.set_title(\"Training and Test Accuracy for Decision Tree for Each Depth (1% Min Sample Split)\")\n",
    "ax.legend()\n",
    "plt.show()"
   ]
  },
  {
   "cell_type": "markdown",
   "id": "1888bf06",
   "metadata": {},
   "source": [
    "- Start to overfit when depth > 10. \n",
    "- This can be alleviated by ensemble method such as random forest.\n",
    "- Should choose a much smaller one for boosting method such as AdaBoost."
   ]
  },
  {
   "cell_type": "markdown",
   "id": "e0c913df",
   "metadata": {},
   "source": [
    "### Random forest"
   ]
  },
  {
   "cell_type": "code",
   "execution_count": 53,
   "id": "170c0dfd",
   "metadata": {},
   "outputs": [],
   "source": [
    "parameters = {\"n_estimators\": [400],\n",
    "              \"max_depth\": range(1, 17, 5),\n",
    "              \"min_samples_split\": [0.0001, 0.001, 0.01]}\n",
    "rf = RandomForestClassifier()\n",
    "clf = GridSearchCV(rf, parameters, cv=10, error_score=0, n_jobs=-1, return_train_score=True).fit(X_train_std, y_train)"
   ]
  },
  {
   "cell_type": "code",
   "execution_count": 32,
   "id": "580ff630",
   "metadata": {},
   "outputs": [],
   "source": [
    "parameters = {\"n_estimators\": [400],\n",
    "              \"max_depth\": range(11, 27, 5),\n",
    "              \"min_samples_split\": [0.0001, 0.001]}\n",
    "rf = RandomForestClassifier()\n",
    "clf = GridSearchCV(rf, parameters, cv=10, error_score=0, n_jobs=-1, return_train_score=True).fit(X_train_std, y_train)"
   ]
  },
  {
   "cell_type": "code",
   "execution_count": 33,
   "id": "91fa6739",
   "metadata": {},
   "outputs": [
    {
     "name": "stdout",
     "output_type": "stream",
     "text": [
      "The best hyperparameter is:  {'max_depth': 26, 'min_samples_split': 0.0001, 'n_estimators': 400}\n",
      "The training accuracy is:  0.996\n",
      "The test accuracy is:  0.798\n",
      "Confusion matrix: \n",
      " [[3014 1025]\n",
      " [ 635 3548]]\n",
      "Classification report: \n",
      "               precision    recall  f1-score   support\n",
      "\n",
      "           0       0.83      0.75      0.78      4039\n",
      "           1       0.78      0.85      0.81      4183\n",
      "\n",
      "    accuracy                           0.80      8222\n",
      "   macro avg       0.80      0.80      0.80      8222\n",
      "weighted avg       0.80      0.80      0.80      8222\n",
      "\n"
     ]
    }
   ],
   "source": [
    "train_acc_list = clf.cv_results_[\"mean_train_score\"].reshape(-1, 2)\n",
    "val_acc_list = clf.cv_results_[\"mean_test_score\"].reshape(-1, 2)\n",
    "best_param = clf.best_params_\n",
    "start = time.time()\n",
    "best_rf = RandomForestClassifier(n_estimators=best_param[\"n_estimators\"], \n",
    "                                 min_samples_split=best_param[\"min_samples_split\"],\n",
    "                                 max_depth=best_param[\"max_depth\"]).fit(X_train_std, y_train)\n",
    "end = time.time()\n",
    "time_matrix[2] = np.round(end - start, 2)\n",
    "train_acc_rf = best_rf.score(X_train_std, y_train)\n",
    "test_acc_rf = best_rf.score(X_test_std, y_test)\n",
    "y_pred_rf = best_rf.predict(X_test_std)\n",
    "\n",
    "print(\"The best hyperparameter is: \", best_param)\n",
    "print(\"The training accuracy is: \", np.round(train_acc_rf, 3))\n",
    "print(\"The test accuracy is: \", np.round(test_acc_rf, 3))\n",
    "print(\"Confusion matrix: \\n\", confusion_matrix(y_test, y_pred_rf))\n",
    "print(\"Classification report: \\n\", classification_report(y_test, y_pred_rf))\n"
   ]
  },
  {
   "cell_type": "code",
   "execution_count": 34,
   "id": "87e03ca5",
   "metadata": {},
   "outputs": [
    {
     "data": {
      "image/png": "[encoded data removed]",
      "text/plain": [
       "<Figure size 576x432 with 1 Axes>"
      ]
     },
     "metadata": {
      "needs_background": "light"
     },
     "output_type": "display_data"
    }
   ],
   "source": [
    "fig, ax = plt.subplots(figsize = (8, 6))\n",
    "\n",
    "depth = range(11, 27, 5)\n",
    "ax.plot(depth, train_acc_list[:, 0], label=\"Train\")\n",
    "ax.plot(depth, val_acc_list[:, 0], label=\"Validation\")\n",
    "ax.set_xlabel(\"Depth\")\n",
    "ax.set_ylabel(\"Accuracy\")\n",
    "ax.set_title(\"Training and Test Accuracy for Random Forest for Each Depth (0.01% Min Sample Split)\")\n",
    "ax.legend()\n",
    "plt.show()"
   ]
  },
  {
   "cell_type": "markdown",
   "id": "fb1a27b1",
   "metadata": {},
   "source": [
    "- Random forest with a large number of trees greatly improves overfitting and the accuracy keeps increasing even when `max_depth` = 26.\n",
    "- However, the marginal increase is not that obvious and we will not try to increase further due to computing resources."
   ]
  },
  {
   "cell_type": "markdown",
   "id": "9f9df596",
   "metadata": {},
   "source": [
    "Top predictors"
   ]
  },
  {
   "cell_type": "code",
   "execution_count": 35,
   "id": "56648cc4",
   "metadata": {},
   "outputs": [
    {
     "name": "stdout",
     "output_type": "stream",
     "text": [
      "Top predictors for random forest:\n"
     ]
    },
    {
     "data": {
      "text/html": [
       "<div>\n",
       "<style scoped>\n",
       "    .dataframe tbody tr th:only-of-type {\n",
       "        vertical-align: middle;\n",
       "    }\n",
       "\n",
       "    .dataframe tbody tr th {\n",
       "        vertical-align: top;\n",
       "    }\n",
       "\n",
       "    .dataframe thead th {\n",
       "        text-align: right;\n",
       "    }\n",
       "</style>\n",
       "<table border=\"1\" class=\"dataframe\">\n",
       "  <thead>\n",
       "    <tr style=\"text-align: right;\">\n",
       "      <th></th>\n",
       "      <th>Predictor</th>\n",
       "      <th>Frequency</th>\n",
       "      <th>Ratio</th>\n",
       "    </tr>\n",
       "  </thead>\n",
       "  <tbody>\n",
       "    <tr>\n",
       "      <th>0</th>\n",
       "      <td>instrumentalness</td>\n",
       "      <td>102</td>\n",
       "      <td>0.2550</td>\n",
       "    </tr>\n",
       "    <tr>\n",
       "      <th>1</th>\n",
       "      <td>danceability</td>\n",
       "      <td>96</td>\n",
       "      <td>0.2400</td>\n",
       "    </tr>\n",
       "    <tr>\n",
       "      <th>2</th>\n",
       "      <td>acousticness</td>\n",
       "      <td>69</td>\n",
       "      <td>0.1725</td>\n",
       "    </tr>\n",
       "    <tr>\n",
       "      <th>3</th>\n",
       "      <td>loudness</td>\n",
       "      <td>32</td>\n",
       "      <td>0.0800</td>\n",
       "    </tr>\n",
       "    <tr>\n",
       "      <th>4</th>\n",
       "      <td>valence</td>\n",
       "      <td>31</td>\n",
       "      <td>0.0775</td>\n",
       "    </tr>\n",
       "    <tr>\n",
       "      <th>5</th>\n",
       "      <td>energy</td>\n",
       "      <td>26</td>\n",
       "      <td>0.0650</td>\n",
       "    </tr>\n",
       "    <tr>\n",
       "      <th>6</th>\n",
       "      <td>speechiness</td>\n",
       "      <td>14</td>\n",
       "      <td>0.0350</td>\n",
       "    </tr>\n",
       "    <tr>\n",
       "      <th>7</th>\n",
       "      <td>duration_ms</td>\n",
       "      <td>14</td>\n",
       "      <td>0.0350</td>\n",
       "    </tr>\n",
       "    <tr>\n",
       "      <th>8</th>\n",
       "      <td>sections</td>\n",
       "      <td>10</td>\n",
       "      <td>0.0250</td>\n",
       "    </tr>\n",
       "    <tr>\n",
       "      <th>9</th>\n",
       "      <td>time_signature</td>\n",
       "      <td>3</td>\n",
       "      <td>0.0075</td>\n",
       "    </tr>\n",
       "    <tr>\n",
       "      <th>10</th>\n",
       "      <td>chorus_hit</td>\n",
       "      <td>2</td>\n",
       "      <td>0.0050</td>\n",
       "    </tr>\n",
       "    <tr>\n",
       "      <th>11</th>\n",
       "      <td>liveness</td>\n",
       "      <td>1</td>\n",
       "      <td>0.0025</td>\n",
       "    </tr>\n",
       "  </tbody>\n",
       "</table>\n",
       "</div>"
      ],
      "text/plain": [
       "           Predictor  Frequency   Ratio\n",
       "0   instrumentalness        102  0.2550\n",
       "1       danceability         96  0.2400\n",
       "2       acousticness         69  0.1725\n",
       "3           loudness         32  0.0800\n",
       "4            valence         31  0.0775\n",
       "5             energy         26  0.0650\n",
       "6        speechiness         14  0.0350\n",
       "7        duration_ms         14  0.0350\n",
       "8           sections         10  0.0250\n",
       "9     time_signature          3  0.0075\n",
       "10        chorus_hit          2  0.0050\n",
       "11          liveness          1  0.0025"
      ]
     },
     "metadata": {},
     "output_type": "display_data"
    },
    {
     "name": "stdout",
     "output_type": "stream",
     "text": [
      "Top second predictors for random forest:\n"
     ]
    },
    {
     "data": {
      "text/html": [
       "<div>\n",
       "<style scoped>\n",
       "    .dataframe tbody tr th:only-of-type {\n",
       "        vertical-align: middle;\n",
       "    }\n",
       "\n",
       "    .dataframe tbody tr th {\n",
       "        vertical-align: top;\n",
       "    }\n",
       "\n",
       "    .dataframe thead th {\n",
       "        text-align: right;\n",
       "    }\n",
       "</style>\n",
       "<table border=\"1\" class=\"dataframe\">\n",
       "  <thead>\n",
       "    <tr style=\"text-align: right;\">\n",
       "      <th></th>\n",
       "      <th>Predictor</th>\n",
       "      <th>Frequency</th>\n",
       "      <th>Ratio</th>\n",
       "    </tr>\n",
       "  </thead>\n",
       "  <tbody>\n",
       "    <tr>\n",
       "      <th>0</th>\n",
       "      <td>instrumentalness</td>\n",
       "      <td>73</td>\n",
       "      <td>0.1825</td>\n",
       "    </tr>\n",
       "    <tr>\n",
       "      <th>1</th>\n",
       "      <td>danceability</td>\n",
       "      <td>64</td>\n",
       "      <td>0.1600</td>\n",
       "    </tr>\n",
       "    <tr>\n",
       "      <th>2</th>\n",
       "      <td>acousticness</td>\n",
       "      <td>53</td>\n",
       "      <td>0.1325</td>\n",
       "    </tr>\n",
       "    <tr>\n",
       "      <th>3</th>\n",
       "      <td>loudness</td>\n",
       "      <td>47</td>\n",
       "      <td>0.1175</td>\n",
       "    </tr>\n",
       "    <tr>\n",
       "      <th>4</th>\n",
       "      <td>energy</td>\n",
       "      <td>44</td>\n",
       "      <td>0.1100</td>\n",
       "    </tr>\n",
       "    <tr>\n",
       "      <th>5</th>\n",
       "      <td>speechiness</td>\n",
       "      <td>37</td>\n",
       "      <td>0.0925</td>\n",
       "    </tr>\n",
       "    <tr>\n",
       "      <th>6</th>\n",
       "      <td>valence</td>\n",
       "      <td>36</td>\n",
       "      <td>0.0900</td>\n",
       "    </tr>\n",
       "    <tr>\n",
       "      <th>7</th>\n",
       "      <td>duration_ms</td>\n",
       "      <td>28</td>\n",
       "      <td>0.0700</td>\n",
       "    </tr>\n",
       "    <tr>\n",
       "      <th>8</th>\n",
       "      <td>sections</td>\n",
       "      <td>7</td>\n",
       "      <td>0.0175</td>\n",
       "    </tr>\n",
       "    <tr>\n",
       "      <th>9</th>\n",
       "      <td>decade</td>\n",
       "      <td>3</td>\n",
       "      <td>0.0075</td>\n",
       "    </tr>\n",
       "    <tr>\n",
       "      <th>10</th>\n",
       "      <td>mode</td>\n",
       "      <td>3</td>\n",
       "      <td>0.0075</td>\n",
       "    </tr>\n",
       "    <tr>\n",
       "      <th>11</th>\n",
       "      <td>chorus_hit</td>\n",
       "      <td>3</td>\n",
       "      <td>0.0075</td>\n",
       "    </tr>\n",
       "    <tr>\n",
       "      <th>12</th>\n",
       "      <td>time_signature</td>\n",
       "      <td>2</td>\n",
       "      <td>0.0050</td>\n",
       "    </tr>\n",
       "  </tbody>\n",
       "</table>\n",
       "</div>"
      ],
      "text/plain": [
       "           Predictor  Frequency   Ratio\n",
       "0   instrumentalness         73  0.1825\n",
       "1       danceability         64  0.1600\n",
       "2       acousticness         53  0.1325\n",
       "3           loudness         47  0.1175\n",
       "4             energy         44  0.1100\n",
       "5        speechiness         37  0.0925\n",
       "6            valence         36  0.0900\n",
       "7        duration_ms         28  0.0700\n",
       "8           sections          7  0.0175\n",
       "9             decade          3  0.0075\n",
       "10              mode          3  0.0075\n",
       "11        chorus_hit          3  0.0075\n",
       "12    time_signature          2  0.0050"
      ]
     },
     "metadata": {},
     "output_type": "display_data"
    }
   ],
   "source": [
    "rf_top_nodes = []\n",
    "rf_second_nodes = []\n",
    "for model in best_rf.estimators_:\n",
    "    rf_top_nodes.append(model.tree_.feature[0])\n",
    "    rf_second_nodes.append(model.tree_.feature[1])\n",
    "rf_top_nodes = X_train_std.columns[rf_top_nodes]\n",
    "rf_second_nodes = X_train_std.columns[rf_second_nodes]\n",
    "\n",
    "top_predictors_rf = pd.DataFrame(rf_top_nodes.value_counts())\n",
    "top_predictors_rf = top_predictors_rf.reset_index()\n",
    "top_predictors_rf.columns = ['Predictor', 'Frequency']\n",
    "top_predictors_rf[\"Ratio\"] = top_predictors_rf.Frequency / 400\n",
    "print(\"Top predictors for random forest:\")\n",
    "display(top_predictors_rf)\n",
    "\n",
    "second_predictors_rf = pd.DataFrame(rf_second_nodes.value_counts())\n",
    "second_predictors_rf = second_predictors_rf.reset_index()\n",
    "second_predictors_rf.columns = ['Predictor', 'Frequency']\n",
    "second_predictors_rf[\"Ratio\"] = second_predictors_rf.Frequency / 400\n",
    "print(\"Top second predictors for random forest:\")\n",
    "display(second_predictors_rf)\n"
   ]
  },
  {
   "cell_type": "markdown",
   "id": "799b0e61",
   "metadata": {},
   "source": [
    "- Top 3 predictors (`instrumentalness`, `danceability`, `acousticness`) are quite stable."
   ]
  },
  {
   "cell_type": "markdown",
   "id": "51f58624",
   "metadata": {},
   "source": [
    "### AdaBoost"
   ]
  },
  {
   "cell_type": "code",
   "execution_count": 38,
   "id": "441f3633",
   "metadata": {},
   "outputs": [],
   "source": [
    "parameters = {\"n_estimators\": [100, 150, 200],\n",
    "              \"base_estimator\": [DecisionTreeClassifier(max_depth=3)],\n",
    "              \"learning_rate\": [0.1, 0.3, 0.5],\n",
    "              \"algorithm\": [\"SAMME.R\"]}\n",
    "ada = AdaBoostClassifier()\n",
    "clf = GridSearchCV(ada, parameters, cv=10, error_score=0, n_jobs=-1, return_train_score=True).fit(X_train_std, y_train)"
   ]
  },
  {
   "cell_type": "code",
   "execution_count": 39,
   "id": "d46d5258",
   "metadata": {},
   "outputs": [
    {
     "name": "stdout",
     "output_type": "stream",
     "text": [
      "The best hyperparameter is:  {'algorithm': 'SAMME.R', 'base_estimator': DecisionTreeClassifier(max_depth=3), 'learning_rate': 0.3, 'n_estimators': 150}\n",
      "The training accuracy is:  0.821\n",
      "The test accuracy is:  0.803\n",
      "Confusion matrix: \n",
      " [[2999 1040]\n",
      " [ 582 3601]]\n",
      "Classification report: \n",
      "               precision    recall  f1-score   support\n",
      "\n",
      "           0       0.84      0.74      0.79      4039\n",
      "           1       0.78      0.86      0.82      4183\n",
      "\n",
      "    accuracy                           0.80      8222\n",
      "   macro avg       0.81      0.80      0.80      8222\n",
      "weighted avg       0.81      0.80      0.80      8222\n",
      "\n"
     ]
    }
   ],
   "source": [
    "train_acc_list = clf.cv_results_[\"mean_train_score\"].reshape(-1, 3)\n",
    "val_acc_list = clf.cv_results_[\"mean_test_score\"].reshape(-1, 3)\n",
    "best_param = clf.best_params_\n",
    "start = time.time()\n",
    "best_ada = AdaBoostClassifier(n_estimators=best_param[\"n_estimators\"], \n",
    "                          base_estimator=best_param[\"base_estimator\"],\n",
    "                          learning_rate=best_param[\"learning_rate\"],\n",
    "                          algorithm=best_param[\"algorithm\"]).fit(X_train_std, y_train)\n",
    "end = time.time()\n",
    "time_matrix[3] = np.round(end - start, 2)\n",
    "train_acc_ada = best_ada.score(X_train_std, y_train)\n",
    "test_acc_ada = best_ada.score(X_test_std, y_test)\n",
    "y_pred_ada = best_ada.predict(X_test_std)\n",
    "\n",
    "print(\"The best hyperparameter is: \", best_param)\n",
    "print(\"The training accuracy is: \", np.round(train_acc_ada, 3))\n",
    "print(\"The test accuracy is: \", np.round(test_acc_ada, 3))\n",
    "print(\"Confusion matrix: \\n\", confusion_matrix(y_test, y_pred_ada))\n",
    "print(\"Classification report: \\n\", classification_report(y_test, y_pred_ada))\n"
   ]
  },
  {
   "cell_type": "markdown",
   "id": "019def77",
   "metadata": {},
   "source": [
    "### Stacking\n",
    "\n",
    "We stack the above heterogeneous learners to form a new model:\n",
    "- We will supply the stacking model with a set of hyperparameters to choose from, including the best ones determined by `GridSearchCV` for each model individually.\n",
    "- Note that the final set of hyperparameters of the stacking model might change."
   ]
  },
  {
   "cell_type": "code",
   "execution_count": 52,
   "id": "19949292",
   "metadata": {},
   "outputs": [
    {
     "name": "stderr",
     "output_type": "stream",
     "text": [
      "/Users/kenneth/opt/anaconda3/lib/python3.9/site-packages/joblib/externals/loky/process_executor.py:702: UserWarning: A worker stopped while some jobs were given to the executor. This can be caused by a too short worker timeout or by a memory leak.\n",
      "  warnings.warn(\n"
     ]
    }
   ],
   "source": [
    "clf1 = KNeighborsClassifier()\n",
    "clf2 = RandomForestClassifier()\n",
    "clf3 = AdaBoostClassifier()\n",
    "lr = LogisticRegression()\n",
    "\n",
    "stacking = StackingClassifier(classifiers=[clf1, clf2, clf3], meta_classifier=lr)\n",
    "parameters = {\"kneighborsclassifier__n_neighbors\": range(5, 21, 5),\n",
    "              \"randomforestclassifier__n_estimators\": [400],\n",
    "              \"randomforestclassifier__max_depth\": [21, 26, 31],\n",
    "              \"randomforestclassifier__min_samples_split\": [0.00005, 0.0001, 0.0002],\n",
    "              \"adaboostclassifier__n_estimators\": [100, 150, 200],\n",
    "              \"adaboostclassifier__base_estimator\": [DecisionTreeClassifier(max_depth=3)],\n",
    "              \"adaboostclassifier__learning_rate\": [0.1, 0.3, 0.5],\n",
    "              \"meta_classifier__C\": [0.01, 10]}\n",
    "clf = GridSearchCV(estimator=stacking, \n",
    "                   param_grid=parameters, \n",
    "                   cv=5, # very large model, fewer folds\n",
    "                   n_jobs=-1, \n",
    "                   return_train_score=True).fit(X_train_std, y_train)"
   ]
  },
  {
   "cell_type": "code",
   "execution_count": null,
   "id": "b82cc831",
   "metadata": {},
   "outputs": [],
   "source": [
    "cv_keys = ('mean_test_score', 'std_test_score', 'params')\n",
    "\n",
    "for r, _ in enumerate(grid.cv_results_['mean_test_score']):\n",
    "    print(\"%0.3f +/- %0.2f %r\"\n",
    "          % (clf.cv_results_[cv_keys[0]][r],\n",
    "             clf.cv_results_[cv_keys[1]][r] / 2.0,\n",
    "             clf.cv_results_[cv_keys[2]][r]))\n",
    "\n",
    "print('Best parameters: %s' % clf.best_params_)\n",
    "print('Accuracy: %.2f' % clf.best_score_)"
   ]
  },
  {
   "cell_type": "markdown",
   "id": "fd09db75",
   "metadata": {},
   "source": [
    "## ROC Curve"
   ]
  },
  {
   "cell_type": "code",
   "execution_count": null,
   "id": "f13cdb5d",
   "metadata": {},
   "outputs": [],
   "source": [
    "# your code here\n",
    "yhat_knn = best_knn.predict_proba(X_test_std)[:,1]\n",
    "yhat_logit= best_lg.predict_proba(X_test_std)[:,1]\n",
    "yhat_rf = best_rf.predict_proba(X_test_std)[:,1]\n",
    "yhat_ada = best_ada.predict_proba(X_test_std)[:,1]\n",
    "\n",
    "fpr_knn, tpr_knn, thresholds_knn = roc_curve(y_test, yhat_knn)\n",
    "fpr_logit, tpr_logit, thresholds_logit = roc_curve(y_test, yhat_logit)\n",
    "fpr_rf, tpr_rf, thresholds_rf = roc_curve(y_test, yhat_rf)\n",
    "fpr_ada, tpr_ada, thresholds_ada = roc_curve(y_test, yhat_ada)\n",
    "\n",
    "x=np.arange(0,100)/100\n",
    "plt.figure(figsize=(12,8))\n",
    "plt.plot(x,x,'--',color=\"gray\",alpha=0.3)\n",
    "plt.plot(fpr_knn,tpr_knn,label=\"knn\")\n",
    "plt.plot(fpr_logit,tpr_logit,label=\"logit\")\n",
    "plt.plot(fpr_rf,tpr_rf,label=\"rf\")\n",
    "plt.plot(fpr_ada,tpr_ada,label=\"ada\")\n",
    "plt.ylabel(\"True Positive Rate\")\n",
    "plt.xlabel(\"False Positive Rate\")\n",
    "plt.title(f\"The ROC Curves for Each Model\")\n",
    "plt.legend()\n",
    "plt.show()"
   ]
  }
 ],
 "metadata": {
  "kernelspec": {
   "display_name": "Python 3.9.12 ('base')",
   "language": "python",
   "name": "python3"
  },
  "language_info": {
   "codemirror_mode": {
    "name": "ipython",
    "version": 3
   },
   "file_extension": ".py",
   "mimetype": "text/x-python",
   "name": "python",
   "nbconvert_exporter": "python",
   "pygments_lexer": "ipython3",
   "version": "3.9.12"
  },
  "vscode": {
   "interpreter": {
    "hash": "0ee9f96fc45383790e944a51491cf37b1d127a6450f1ce25dac060f30d0fb4d1"
   }
  }
 },
 "nbformat": 4,
 "nbformat_minor": 5
}
