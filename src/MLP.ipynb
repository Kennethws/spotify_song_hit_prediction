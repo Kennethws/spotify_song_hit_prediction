{
 "cells": [
  {
   "cell_type": "markdown",
   "metadata": {},
   "source": [
    "### Multi-Layer Perceptron (MLP)\n",
    "This notebook extends `209 project.ipynb` by implementing MLP neural network for our classification task. We first imported all necessary packages:"
   ]
  },
  {
   "cell_type": "code",
   "execution_count": 1,
   "metadata": {},
   "outputs": [],
   "source": [
    "import pandas as pd\n",
    "import numpy as np\n",
    "import seaborn as sns\n",
    "import matplotlib.pyplot as plt\n",
    "\n",
    "from sklearn.model_selection import train_test_split\n",
    "from sklearn.preprocessing import StandardScaler\n",
    "from sklearn.model_selection import cross_validate, cross_val_score\n",
    "from sklearn.metrics import accuracy_score\n",
    "from sklearn.metrics import roc_curve\n",
    "from sklearn.metrics import roc_auc_score\n",
    "\n",
    "from sklearn.neural_network import MLPClassifier\n",
    "from sklearn.metrics import confusion_matrix\n",
    "from sklearn.metrics import classification_report\n",
    "from sklearn.model_selection import GridSearchCV\n",
    "\n",
    "import warnings\n",
    "warnings.filterwarnings(\"ignore\")"
   ]
  },
  {
   "cell_type": "markdown",
   "metadata": {},
   "source": [
    "Then using the preprocessed dataset, we splitted it into training and test sets."
   ]
  },
  {
   "cell_type": "code",
   "execution_count": 2,
   "metadata": {},
   "outputs": [],
   "source": [
    "df = pd.read_csv(\"data/dataset-whole.csv\",index_col=0)\n",
    "num_cols = ['danceability','energy','loudness','speechiness','acousticness',\n",
    "            'instrumentalness','liveness','valence','tempo','duration_ms',\n",
    "            'time_signature','chorus_hit','sections']\n",
    "\n",
    "predictor_ls = num_cols + ['mode','decade','key']\n",
    "\n",
    "np.random.seed(209)\n",
    "df_train, df_test = train_test_split(\n",
    "    df,\n",
    "    test_size=0.2,\n",
    "    random_state=209,\n",
    "    shuffle=True,\n",
    ")\n",
    "X_train = df_train.drop(columns=['target'])\n",
    "y_train = df_train['target']\n",
    "X_test = df_test.drop(columns=['target'])\n",
    "y_test = df_test['target']"
   ]
  },
  {
   "cell_type": "markdown",
   "metadata": {},
   "source": [
    "We obtained standardized datasets using `StandardScaler()` for `X_train` and `X_test`."
   ]
  },
  {
   "cell_type": "code",
   "execution_count": 3,
   "metadata": {},
   "outputs": [],
   "source": [
    "scalerX = StandardScaler().fit(X_train[num_cols])\n",
    "X_train_std = pd.DataFrame(np.hstack((scalerX.transform(X_train[num_cols]), X_train[['mode', 'decade', 'key']])), columns = predictor_ls) \n",
    "X_test_std = pd.DataFrame(np.hstack((scalerX.transform(X_test[num_cols]), X_test[['mode', 'decade', 'key']])), columns = predictor_ls) "
   ]
  },
  {
   "cell_type": "markdown",
   "metadata": {},
   "source": [
    "As a baseline approach, we attempted the following parameters for `MLPClassifier` to get an initial result of confusion matrix, loss vs iteration graph, and classification report."
   ]
  },
  {
   "cell_type": "code",
   "execution_count": 16,
   "metadata": {},
   "outputs": [
    {
     "name": "stdout",
     "output_type": "stream",
     "text": [
      "The accuracy score of 10-fold cross validation for MLP baseline is 0.768 +/- 0.008\n",
      "The test accuracy score for MLP baseline is 0.776\n"
     ]
    }
   ],
   "source": [
    "# baseline approach\n",
    "\n",
    "mlp_clf = MLPClassifier(hidden_layer_sizes=(5,2),\n",
    "                        max_iter = 300, activation = 'relu',\n",
    "                        solver = 'adam', random_state = 123)\n",
    "mlp_clf.fit(X_train_std, y_train)\n",
    "\n",
    "cv_score = cross_val_score(mlp_clf, X_train_std, y_train, cv = 10)\n",
    "print('The accuracy score of 10-fold cross validation for {} is {} +/- {}'.format('MLP baseline',\n",
    "                                                                                np.round(np.mean(cv_score), 3),\n",
    "                                                                                np.round(np.std(cv_score), 3)))\n",
    "print('The test accuracy score for {} is {}'.format('MLP baseline',\n",
    "                                                    np.round(mlp_clf.score(X_test_std, y_test), 3)))"
   ]
  },
  {
   "cell_type": "code",
   "execution_count": 17,
   "metadata": {},
   "outputs": [
    {
     "name": "stdout",
     "output_type": "stream",
     "text": [
      "Classification report for MLP baseline: \n",
      "               precision    recall  f1-score   support\n",
      "\n",
      "           0       0.83      0.68      0.75      4039\n",
      "           1       0.74      0.87      0.80      4183\n",
      "\n",
      "    accuracy                           0.78      8222\n",
      "   macro avg       0.79      0.77      0.77      8222\n",
      "weighted avg       0.78      0.78      0.77      8222\n",
      "\n"
     ]
    }
   ],
   "source": [
    "y_pred = mlp_clf.predict(X_test_std)\n",
    "print(\"Classification report for MLP baseline: \\n\", classification_report(y_test, y_pred))"
   ]
  },
  {
   "cell_type": "code",
   "execution_count": 18,
   "metadata": {},
   "outputs": [
    {
     "data": {
      "image/png": "[encoded data removed]",
      "text/plain": [
       "<Figure size 576x360 with 2 Axes>"
      ]
     },
     "metadata": {
      "needs_background": "light"
     },
     "output_type": "display_data"
    }
   ],
   "source": [
    "cm = confusion_matrix(y_test, y_pred)\n",
    "\n",
    "plt.figure(figsize = (8,5))\n",
    "sns.heatmap(cm, annot=True, cmap='Blues', fmt='d', cbar=True)\n",
    "plt.xlabel('predicted label')\n",
    "plt.ylabel('true label')\n",
    "plt.title('Confusion Matrix - MLP baseline')\n",
    "plt.show()"
   ]
  },
  {
   "cell_type": "code",
   "execution_count": 25,
   "metadata": {},
   "outputs": [
    {
     "data": {
      "image/png": "[encoded data removed]",
      "text/plain": [
       "<Figure size 432x288 with 1 Axes>"
      ]
     },
     "metadata": {
      "needs_background": "light"
     },
     "output_type": "display_data"
    }
   ],
   "source": [
    "plt.plot(mlp_clf.loss_curve_)\n",
    "plt.title(\"Loss Curve for MLP baseline\", fontsize=14)\n",
    "plt.xlabel('Iterations')\n",
    "plt.ylabel('Cost')\n",
    "plt.show()"
   ]
  },
  {
   "cell_type": "markdown",
   "metadata": {},
   "source": [
    "To perform hyperparameter tuning, we used `GridSearchCV` to find the best parameters for `MLPClassifier`."
   ]
  },
  {
   "cell_type": "code",
   "execution_count": 20,
   "metadata": {},
   "outputs": [
    {
     "name": "stdout",
     "output_type": "stream",
     "text": [
      "Fitting 5 folds for each of 288 candidates, totalling 1440 fits\n"
     ]
    },
    {
     "name": "stderr",
     "output_type": "stream",
     "text": [
      "[Parallel(n_jobs=-1)]: Using backend LokyBackend with 8 concurrent workers.\n",
      "[Parallel(n_jobs=-1)]: Done   2 tasks      | elapsed:   56.9s\n",
      "[Parallel(n_jobs=-1)]: Done   9 tasks      | elapsed:  1.9min\n",
      "[Parallel(n_jobs=-1)]: Done  16 tasks      | elapsed:  2.9min\n",
      "[Parallel(n_jobs=-1)]: Done  25 tasks      | elapsed:  6.9min\n",
      "[Parallel(n_jobs=-1)]: Done  34 tasks      | elapsed:  8.4min\n",
      "[Parallel(n_jobs=-1)]: Done  45 tasks      | elapsed: 11.2min\n",
      "[Parallel(n_jobs=-1)]: Done  56 tasks      | elapsed: 16.1min\n",
      "[Parallel(n_jobs=-1)]: Done  69 tasks      | elapsed: 18.1min\n",
      "[Parallel(n_jobs=-1)]: Done  82 tasks      | elapsed: 20.8min\n",
      "[Parallel(n_jobs=-1)]: Done  97 tasks      | elapsed: 22.7min\n",
      "[Parallel(n_jobs=-1)]: Done 112 tasks      | elapsed: 26.3min\n",
      "[Parallel(n_jobs=-1)]: Done 129 tasks      | elapsed: 28.5min\n",
      "[Parallel(n_jobs=-1)]: Done 146 tasks      | elapsed: 30.9min\n",
      "[Parallel(n_jobs=-1)]: Done 165 tasks      | elapsed: 32.3min\n",
      "[Parallel(n_jobs=-1)]: Done 184 tasks      | elapsed: 34.4min\n",
      "[Parallel(n_jobs=-1)]: Done 205 tasks      | elapsed: 35.9min\n",
      "[Parallel(n_jobs=-1)]: Done 226 tasks      | elapsed: 36.8min\n",
      "[Parallel(n_jobs=-1)]: Done 249 tasks      | elapsed: 39.5min\n",
      "[Parallel(n_jobs=-1)]: Done 272 tasks      | elapsed: 46.8min\n",
      "[Parallel(n_jobs=-1)]: Done 297 tasks      | elapsed: 54.2min\n",
      "[Parallel(n_jobs=-1)]: Done 322 tasks      | elapsed: 59.1min\n",
      "[Parallel(n_jobs=-1)]: Done 349 tasks      | elapsed: 63.3min\n",
      "[Parallel(n_jobs=-1)]: Done 376 tasks      | elapsed: 67.2min\n",
      "[Parallel(n_jobs=-1)]: Done 405 tasks      | elapsed: 70.5min\n",
      "[Parallel(n_jobs=-1)]: Done 434 tasks      | elapsed: 73.3min\n",
      "[Parallel(n_jobs=-1)]: Done 465 tasks      | elapsed: 75.3min\n",
      "[Parallel(n_jobs=-1)]: Done 496 tasks      | elapsed: 80.1min\n",
      "[Parallel(n_jobs=-1)]: Done 529 tasks      | elapsed: 89.0min\n",
      "[Parallel(n_jobs=-1)]: Done 562 tasks      | elapsed: 96.4min\n",
      "[Parallel(n_jobs=-1)]: Done 597 tasks      | elapsed: 101.7min\n",
      "[Parallel(n_jobs=-1)]: Done 632 tasks      | elapsed: 105.2min\n",
      "[Parallel(n_jobs=-1)]: Done 669 tasks      | elapsed: 108.6min\n",
      "[Parallel(n_jobs=-1)]: Done 706 tasks      | elapsed: 110.6min\n",
      "[Parallel(n_jobs=-1)]: Done 745 tasks      | elapsed: 118.0min\n",
      "[Parallel(n_jobs=-1)]: Done 784 tasks      | elapsed: 126.8min\n",
      "[Parallel(n_jobs=-1)]: Done 825 tasks      | elapsed: 133.1min\n",
      "[Parallel(n_jobs=-1)]: Done 866 tasks      | elapsed: 139.3min\n",
      "[Parallel(n_jobs=-1)]: Done 909 tasks      | elapsed: 143.2min\n",
      "[Parallel(n_jobs=-1)]: Done 952 tasks      | elapsed: 146.6min\n",
      "[Parallel(n_jobs=-1)]: Done 997 tasks      | elapsed: 156.9min\n",
      "[Parallel(n_jobs=-1)]: Done 1042 tasks      | elapsed: 168.3min\n",
      "[Parallel(n_jobs=-1)]: Done 1089 tasks      | elapsed: 175.8min\n",
      "[Parallel(n_jobs=-1)]: Done 1136 tasks      | elapsed: 181.2min\n",
      "[Parallel(n_jobs=-1)]: Done 1185 tasks      | elapsed: 184.5min\n",
      "[Parallel(n_jobs=-1)]: Done 1234 tasks      | elapsed: 194.9min\n",
      "[Parallel(n_jobs=-1)]: Done 1285 tasks      | elapsed: 208.8min\n",
      "[Parallel(n_jobs=-1)]: Done 1336 tasks      | elapsed: 217.0min\n",
      "[Parallel(n_jobs=-1)]: Done 1389 tasks      | elapsed: 222.9min\n",
      "[Parallel(n_jobs=-1)]: Done 1440 out of 1440 | elapsed: 226.3min finished\n"
     ]
    },
    {
     "name": "stdout",
     "output_type": "stream",
     "text": [
      "{'activation': 'tanh', 'alpha': 0.05, 'hidden_layer_sizes': (150, 80, 40), 'learning_rate': 'constant', 'max_iter': 100, 'solver': 'adam'}\n"
     ]
    }
   ],
   "source": [
    "param_grid = {\n",
    "    'hidden_layer_sizes': [(200, 120, 50, 10), (150, 80, 40), (100, 50, 30), (50, 20, 5)],\n",
    "    'max_iter': [50, 100, 200],\n",
    "    'activation': ['tanh', 'relu'],\n",
    "    'solver': ['sgd', 'adam'],\n",
    "    'alpha': [0.0001, 0.01, 0.05],\n",
    "    'learning_rate': ['constant','adaptive'],\n",
    "}\n",
    "\n",
    "grid = GridSearchCV(mlp_clf, param_grid, n_jobs=-1, cv=5, verbose=10)\n",
    "grid.fit(X_train_std, y_train)\n",
    "\n",
    "print(grid.best_params_)"
   ]
  },
  {
   "cell_type": "code",
   "execution_count": 21,
   "metadata": {},
   "outputs": [
    {
     "name": "stdout",
     "output_type": "stream",
     "text": [
      "The accuracy score of 10-fold cross validation for MLP with best params is 0.796 +/- 0.005\n",
      "The test accuracy score for MLP with best params is 0.799\n"
     ]
    }
   ],
   "source": [
    "# best parameters\n",
    "\n",
    "mlp_best = MLPClassifier(hidden_layer_sizes=(150, 80, 40), alpha = 0.05,\n",
    "                        max_iter = 100, activation = 'tanh', learning_rate='constant',\n",
    "                        solver = 'adam', random_state = 123)\n",
    "mlp_best.fit(X_train_std, y_train)\n",
    "\n",
    "cv_score = cross_val_score(mlp_best, X_train_std, y_train, cv = 10)\n",
    "print('The accuracy score of 10-fold cross validation for {} is {} +/- {}'.format('MLP with best params',\n",
    "                                                                                np.round(np.mean(cv_score), 3),\n",
    "                                                                                np.round(np.std(cv_score), 3)))\n",
    "print('The test accuracy score for {} is {}'.format('MLP with best params',\n",
    "                                                    np.round(mlp_best.score(X_test_std, y_test), 3)))"
   ]
  },
  {
   "cell_type": "code",
   "execution_count": 22,
   "metadata": {},
   "outputs": [
    {
     "name": "stdout",
     "output_type": "stream",
     "text": [
      "Classification report for MLP with best params: \n",
      "               precision    recall  f1-score   support\n",
      "\n",
      "           0       0.80      0.79      0.79      4039\n",
      "           1       0.80      0.81      0.80      4183\n",
      "\n",
      "    accuracy                           0.80      8222\n",
      "   macro avg       0.80      0.80      0.80      8222\n",
      "weighted avg       0.80      0.80      0.80      8222\n",
      "\n"
     ]
    }
   ],
   "source": [
    "y_pred = mlp_best.predict(X_test_std)\n",
    "print(\"Classification report for MLP with best params: \\n\", classification_report(y_test, y_pred))"
   ]
  },
  {
   "cell_type": "code",
   "execution_count": 23,
   "metadata": {},
   "outputs": [
    {
     "data": {
      "image/png": "[encoded data removed]",
      "text/plain": [
       "<Figure size 576x360 with 2 Axes>"
      ]
     },
     "metadata": {
      "needs_background": "light"
     },
     "output_type": "display_data"
    }
   ],
   "source": [
    "cm = confusion_matrix(y_test, y_pred)\n",
    "\n",
    "plt.figure(figsize = (8,5))\n",
    "sns.heatmap(cm, annot=True, cmap='Blues', fmt='d', cbar=True)\n",
    "plt.xlabel('predicted label')\n",
    "plt.ylabel('true label')\n",
    "plt.title('Confusion Matrix - MLP with best params')\n",
    "plt.show()"
   ]
  },
  {
   "cell_type": "code",
   "execution_count": 26,
   "metadata": {},
   "outputs": [
    {
     "data": {
      "image/png": "[encoded data removed]",
      "text/plain": [
       "<Figure size 432x288 with 1 Axes>"
      ]
     },
     "metadata": {
      "needs_background": "light"
     },
     "output_type": "display_data"
    }
   ],
   "source": [
    "plt.plot(mlp_best.loss_curve_)\n",
    "plt.title(\"Loss Curve for MLP with best params\", fontsize=14)\n",
    "plt.xlabel('Iterations')\n",
    "plt.ylabel('Cost')\n",
    "plt.show()"
   ]
  }
 ],
 "metadata": {
  "kernelspec": {
   "display_name": "Python 3.8.5 ('base')",
   "language": "python",
   "name": "python3"
  },
  "language_info": {
   "codemirror_mode": {
    "name": "ipython",
    "version": 3
   },
   "file_extension": ".py",
   "mimetype": "text/x-python",
   "name": "python",
   "nbconvert_exporter": "python",
   "pygments_lexer": "ipython3",
   "version": "3.8.5"
  },
  "orig_nbformat": 4,
  "vscode": {
   "interpreter": {
    "hash": "928ff09a866b4cbf9509a8810804d469f168f89f170fd4915c89be8f411b8812"
   }
  }
 },
 "nbformat": 4,
 "nbformat_minor": 2
}
